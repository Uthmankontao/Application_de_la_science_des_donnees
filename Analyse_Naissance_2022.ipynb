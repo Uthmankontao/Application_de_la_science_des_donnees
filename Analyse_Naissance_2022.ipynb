{
 "cells": [
  {
   "cell_type": "markdown",
   "id": "e29ebbc9-b347-4a8c-b251-c9b681aa0bcb",
   "metadata": {},
   "source": [
    "# Première partie"
   ]
  },
  {
   "cell_type": "markdown",
   "id": "d2743b70-c802-4277-af5a-8409fe4c7e25",
   "metadata": {},
   "source": [
    "1) Traiter les données manquantes, aberrantes, comprendre les variables ✅\n",
    "\n",
    "2) Statistiques descriptives simples : histo, etc ✅\n",
    "\n",
    "3) Seine-maritime vs france\n",
    "\n",
    "4) Prédiction (attention variables catégorielles non ordonnées)\n",
    "\n",
    "5) Ajouter mois naissance, pays naissance parents ✅\n",
    "\n",
    "6) Tracer histo age pere et mere sur le meme graphique ✅\n",
    "\n",
    "7) Faire un scatter plot et calculer la corrélation, et la droite de régression linéaire ✅\n",
    "\n",
    "8) Faire un test de normalité pour chaque histo mere et pere \n",
    "\n",
    "9) Nombre de naissances : histogramme age mère par nb de naissance (1,2,3) ✅\n",
    "\n",
    "10) Tableau d’effectifs (à la manière du khi deux) : sexe bébé + 1 autre variable ✅\n",
    "\n",
    "11) Etude à 2 variables : catégorie (age), lieu de domicile ou catégorie (âge) et nationalité"
   ]
  },
  {
   "cell_type": "markdown",
   "id": "9bf3e2dd-2e13-4ffa-b27c-7a00d009dc56",
   "metadata": {
    "tags": []
   },
   "source": [
    "# Extraction des données"
   ]
  },
  {
   "cell_type": "code",
   "execution_count": 28,
   "id": "3a121571-0c5a-462e-8afe-6379788999f5",
   "metadata": {
    "tags": []
   },
   "outputs": [],
   "source": [
    "from dbfread import DBF\n",
    "import pandas as pd\n",
    "\n",
    "df =pd.read_csv(\"fichiers/etatcivil2022_nais2022_csv/FD_NAIS_2022.csv\",sep=\";\", low_memory = False) \n",
    "data_alias = {\"ACCOUCHR\" : \"Conditions de l’accouchement\", \"MNAIS\": \"Mois de naissance de l'enfant\", \"AGEMERE\" : \"Age de la mère\", \"AGEPERE\" : \"Age du père\", \"INDNATM\" : \"Nationnalité de la mère\",\"INDNATP\" : \"Nationnalité du père\" , \"AMAR\" : \"Année de mariage des parents\", \"DEPDOM\": \"Département de domicile de la mère\", \"DEPNAIS\" : \"Département de naissance\" , \"NBENF\" : \"Nombre d'enfant issu de l'accouchement\", \"SEXE\" : \"Sexe de l'enfant\"}"
   ]
  },
  {
   "cell_type": "code",
   "execution_count": 29,
   "id": "c70be846-aa35-4d14-aeb2-6d323e1cdda0",
   "metadata": {
    "tags": []
   },
   "outputs": [
    {
     "data": {
      "text/plain": [
       "{'ACCOUCHR': 'Conditions de l’accouchement',\n",
       " 'MNAIS': \"Mois de naissance de l'enfant\",\n",
       " 'AGEMERE': 'Age de la mère',\n",
       " 'AGEPERE': 'Age du père',\n",
       " 'INDNATM': 'Nationnalité de la mère',\n",
       " 'INDNATP': 'Nationnalité du père',\n",
       " 'AMAR': 'Année de mariage des parents',\n",
       " 'DEPDOM': 'Département de domicile de la mère',\n",
       " 'DEPNAIS': 'Département de naissance',\n",
       " 'NBENF': \"Nombre d'enfant issu de l'accouchement\",\n",
       " 'SEXE': \"Sexe de l'enfant\"}"
      ]
     },
     "execution_count": 29,
     "metadata": {},
     "output_type": "execute_result"
    }
   ],
   "source": [
    "data_alias"
   ]
  },
  {
   "cell_type": "markdown",
   "id": "feb4d9d5-1e8e-4189-8300-db068de1b03b",
   "metadata": {
    "tags": []
   },
   "source": [
    "# Traitement des données abbérantes et manquantes"
   ]
  },
  {
   "cell_type": "code",
   "execution_count": 30,
   "id": "eeef8ced-3a62-45b9-ad3a-b46423418b98",
   "metadata": {
    "tags": []
   },
   "outputs": [
    {
     "data": {
      "text/html": [
       "<div>\n",
       "<style scoped>\n",
       "    .dataframe tbody tr th:only-of-type {\n",
       "        vertical-align: middle;\n",
       "    }\n",
       "\n",
       "    .dataframe tbody tr th {\n",
       "        vertical-align: top;\n",
       "    }\n",
       "\n",
       "    .dataframe thead th {\n",
       "        text-align: right;\n",
       "    }\n",
       "</style>\n",
       "<table border=\"1\" class=\"dataframe\">\n",
       "  <thead>\n",
       "    <tr style=\"text-align: right;\">\n",
       "      <th></th>\n",
       "      <th>ANAIS</th>\n",
       "      <th>ACCOUCHR</th>\n",
       "      <th>AGEMERE</th>\n",
       "      <th>AGEXACTM</th>\n",
       "      <th>DEPDOM</th>\n",
       "      <th>DEPNAIS</th>\n",
       "      <th>INDLNM</th>\n",
       "      <th>INDNATM</th>\n",
       "      <th>MNAIS</th>\n",
       "      <th>NBENF</th>\n",
       "      <th>ORIGINOM</th>\n",
       "      <th>SEXE</th>\n",
       "      <th>TUCOM</th>\n",
       "      <th>TUDOM</th>\n",
       "    </tr>\n",
       "  </thead>\n",
       "  <tbody>\n",
       "    <tr>\n",
       "      <th>0</th>\n",
       "      <td>2022</td>\n",
       "      <td>ES</td>\n",
       "      <td>29</td>\n",
       "      <td>28</td>\n",
       "      <td>01</td>\n",
       "      <td>69</td>\n",
       "      <td>1</td>\n",
       "      <td>1</td>\n",
       "      <td>1</td>\n",
       "      <td>1</td>\n",
       "      <td>1.0</td>\n",
       "      <td>1</td>\n",
       "      <td>P</td>\n",
       "      <td>0</td>\n",
       "    </tr>\n",
       "    <tr>\n",
       "      <th>1</th>\n",
       "      <td>2022</td>\n",
       "      <td>ES</td>\n",
       "      <td>32</td>\n",
       "      <td>31</td>\n",
       "      <td>01</td>\n",
       "      <td>71</td>\n",
       "      <td>1</td>\n",
       "      <td>1</td>\n",
       "      <td>7</td>\n",
       "      <td>1</td>\n",
       "      <td>1.0</td>\n",
       "      <td>2</td>\n",
       "      <td>P</td>\n",
       "      <td>0</td>\n",
       "    </tr>\n",
       "    <tr>\n",
       "      <th>2</th>\n",
       "      <td>2022</td>\n",
       "      <td>ES</td>\n",
       "      <td>29</td>\n",
       "      <td>28</td>\n",
       "      <td>01</td>\n",
       "      <td>01</td>\n",
       "      <td>1</td>\n",
       "      <td>1</td>\n",
       "      <td>8</td>\n",
       "      <td>1</td>\n",
       "      <td>1.0</td>\n",
       "      <td>1</td>\n",
       "      <td>P</td>\n",
       "      <td>0</td>\n",
       "    </tr>\n",
       "    <tr>\n",
       "      <th>3</th>\n",
       "      <td>2022</td>\n",
       "      <td>ES</td>\n",
       "      <td>27</td>\n",
       "      <td>26</td>\n",
       "      <td>01</td>\n",
       "      <td>01</td>\n",
       "      <td>1</td>\n",
       "      <td>1</td>\n",
       "      <td>9</td>\n",
       "      <td>1</td>\n",
       "      <td>1.0</td>\n",
       "      <td>2</td>\n",
       "      <td>P</td>\n",
       "      <td>0</td>\n",
       "    </tr>\n",
       "    <tr>\n",
       "      <th>4</th>\n",
       "      <td>2022</td>\n",
       "      <td>ES</td>\n",
       "      <td>35</td>\n",
       "      <td>35</td>\n",
       "      <td>01</td>\n",
       "      <td>69</td>\n",
       "      <td>1</td>\n",
       "      <td>1</td>\n",
       "      <td>10</td>\n",
       "      <td>1</td>\n",
       "      <td>1.0</td>\n",
       "      <td>2</td>\n",
       "      <td>P</td>\n",
       "      <td>0</td>\n",
       "    </tr>\n",
       "    <tr>\n",
       "      <th>...</th>\n",
       "      <td>...</td>\n",
       "      <td>...</td>\n",
       "      <td>...</td>\n",
       "      <td>...</td>\n",
       "      <td>...</td>\n",
       "      <td>...</td>\n",
       "      <td>...</td>\n",
       "      <td>...</td>\n",
       "      <td>...</td>\n",
       "      <td>...</td>\n",
       "      <td>...</td>\n",
       "      <td>...</td>\n",
       "      <td>...</td>\n",
       "      <td>...</td>\n",
       "    </tr>\n",
       "    <tr>\n",
       "      <th>725992</th>\n",
       "      <td>2022</td>\n",
       "      <td>ES</td>\n",
       "      <td>33</td>\n",
       "      <td>33</td>\n",
       "      <td>99</td>\n",
       "      <td>34</td>\n",
       "      <td>4</td>\n",
       "      <td>2</td>\n",
       "      <td>12</td>\n",
       "      <td>1</td>\n",
       "      <td>2.0</td>\n",
       "      <td>2</td>\n",
       "      <td>NaN</td>\n",
       "      <td>9</td>\n",
       "    </tr>\n",
       "    <tr>\n",
       "      <th>725993</th>\n",
       "      <td>2022</td>\n",
       "      <td>ES</td>\n",
       "      <td>33</td>\n",
       "      <td>33</td>\n",
       "      <td>99</td>\n",
       "      <td>75</td>\n",
       "      <td>1</td>\n",
       "      <td>1</td>\n",
       "      <td>12</td>\n",
       "      <td>1</td>\n",
       "      <td>1.0</td>\n",
       "      <td>2</td>\n",
       "      <td>NaN</td>\n",
       "      <td>9</td>\n",
       "    </tr>\n",
       "    <tr>\n",
       "      <th>725994</th>\n",
       "      <td>2022</td>\n",
       "      <td>ES</td>\n",
       "      <td>17</td>\n",
       "      <td>17</td>\n",
       "      <td>99</td>\n",
       "      <td>59</td>\n",
       "      <td>4</td>\n",
       "      <td>2</td>\n",
       "      <td>12</td>\n",
       "      <td>2</td>\n",
       "      <td>1.0</td>\n",
       "      <td>1</td>\n",
       "      <td>NaN</td>\n",
       "      <td>9</td>\n",
       "    </tr>\n",
       "    <tr>\n",
       "      <th>725995</th>\n",
       "      <td>2022</td>\n",
       "      <td>ES</td>\n",
       "      <td>17</td>\n",
       "      <td>17</td>\n",
       "      <td>99</td>\n",
       "      <td>59</td>\n",
       "      <td>4</td>\n",
       "      <td>2</td>\n",
       "      <td>12</td>\n",
       "      <td>2</td>\n",
       "      <td>1.0</td>\n",
       "      <td>1</td>\n",
       "      <td>NaN</td>\n",
       "      <td>9</td>\n",
       "    </tr>\n",
       "    <tr>\n",
       "      <th>725996</th>\n",
       "      <td>2022</td>\n",
       "      <td>ES</td>\n",
       "      <td>32</td>\n",
       "      <td>32</td>\n",
       "      <td>99</td>\n",
       "      <td>42</td>\n",
       "      <td>4</td>\n",
       "      <td>2</td>\n",
       "      <td>12</td>\n",
       "      <td>1</td>\n",
       "      <td>1.0</td>\n",
       "      <td>2</td>\n",
       "      <td>NaN</td>\n",
       "      <td>9</td>\n",
       "    </tr>\n",
       "  </tbody>\n",
       "</table>\n",
       "<p>725997 rows × 14 columns</p>\n",
       "</div>"
      ],
      "text/plain": [
       "        ANAIS ACCOUCHR  AGEMERE  AGEXACTM DEPDOM DEPNAIS  INDLNM  INDNATM  \\\n",
       "0        2022       ES       29        28     01      69       1        1   \n",
       "1        2022       ES       32        31     01      71       1        1   \n",
       "2        2022       ES       29        28     01      01       1        1   \n",
       "3        2022       ES       27        26     01      01       1        1   \n",
       "4        2022       ES       35        35     01      69       1        1   \n",
       "...       ...      ...      ...       ...    ...     ...     ...      ...   \n",
       "725992   2022       ES       33        33     99      34       4        2   \n",
       "725993   2022       ES       33        33     99      75       1        1   \n",
       "725994   2022       ES       17        17     99      59       4        2   \n",
       "725995   2022       ES       17        17     99      59       4        2   \n",
       "725996   2022       ES       32        32     99      42       4        2   \n",
       "\n",
       "        MNAIS  NBENF  ORIGINOM  SEXE TUCOM  TUDOM  \n",
       "0           1      1       1.0     1     P      0  \n",
       "1           7      1       1.0     2     P      0  \n",
       "2           8      1       1.0     1     P      0  \n",
       "3           9      1       1.0     2     P      0  \n",
       "4          10      1       1.0     2     P      0  \n",
       "...       ...    ...       ...   ...   ...    ...  \n",
       "725992     12      1       2.0     2   NaN      9  \n",
       "725993     12      1       1.0     2   NaN      9  \n",
       "725994     12      2       1.0     1   NaN      9  \n",
       "725995     12      2       1.0     1   NaN      9  \n",
       "725996     12      1       1.0     2   NaN      9  \n",
       "\n",
       "[725997 rows x 14 columns]"
      ]
     },
     "execution_count": 30,
     "metadata": {},
     "output_type": "execute_result"
    }
   ],
   "source": [
    "df"
   ]
  },
  {
   "cell_type": "markdown",
   "id": "9eedc4f4-fbee-44f5-8cd0-a04c00cd64a8",
   "metadata": {
    "tags": []
   },
   "source": [
    "Dans le cadre de l'analyse de nos données de naissance nous allons travailler avec 12 variables et plus de 742 000 observations."
   ]
  },
  {
   "cell_type": "markdown",
   "id": "393126f6-5802-46b3-af87-c4a2946bc29f",
   "metadata": {
    "tags": []
   },
   "source": [
    "## Traitement de nos données manquantes"
   ]
  },
  {
   "cell_type": "code",
   "execution_count": 31,
   "id": "8ccdb119-c425-49c3-a5f9-4f9b899cd1ea",
   "metadata": {
    "tags": []
   },
   "outputs": [
    {
     "data": {
      "text/plain": [
       "ANAIS          0\n",
       "ACCOUCHR     693\n",
       "AGEMERE        0\n",
       "AGEXACTM       0\n",
       "DEPDOM         0\n",
       "DEPNAIS        0\n",
       "INDLNM         0\n",
       "INDNATM        0\n",
       "MNAIS          0\n",
       "NBENF          0\n",
       "ORIGINOM     693\n",
       "SEXE           0\n",
       "TUCOM       1148\n",
       "TUDOM          0\n",
       "dtype: int64"
      ]
     },
     "execution_count": 31,
     "metadata": {},
     "output_type": "execute_result"
    }
   ],
   "source": [
    "missing_v = df.isnull().sum()\n",
    "missing_v"
   ]
  },
  {
   "cell_type": "markdown",
   "id": "f55fd35d-fb27-4699-82c5-86d876227601",
   "metadata": {
    "tags": []
   },
   "source": [
    "La seule variable avec des valeurs manquantes est ACCOUCHR, avec 761 valeurs manquantes. Pour les autres variables, il n'y a pas de valeurs manquantes signalées."
   ]
  },
  {
   "cell_type": "code",
   "execution_count": 32,
   "id": "76634cc8-cb22-44c6-b295-87e2ada15ebe",
   "metadata": {
    "tags": []
   },
   "outputs": [],
   "source": [
    "df[\"ACCOUCHR\"] = df[\"ACCOUCHR\"].fillna(\"inconnu\")\n",
    "df[\"ORIGINOM\"] = df[\"ORIGINOM\"].fillna(\"inconnu\")\n",
    "df[\"TUCOM\"] = df[\"TUCOM\"].fillna(\"inconnu\")"
   ]
  },
  {
   "cell_type": "code",
   "execution_count": 33,
   "id": "5a9d438f-23f2-46f2-9808-e058e0e7c5c8",
   "metadata": {
    "tags": []
   },
   "outputs": [
    {
     "data": {
      "text/plain": [
       "ANAIS       0\n",
       "ACCOUCHR    0\n",
       "AGEMERE     0\n",
       "AGEXACTM    0\n",
       "DEPDOM      0\n",
       "DEPNAIS     0\n",
       "INDLNM      0\n",
       "INDNATM     0\n",
       "MNAIS       0\n",
       "NBENF       0\n",
       "ORIGINOM    0\n",
       "SEXE        0\n",
       "TUCOM       0\n",
       "TUDOM       0\n",
       "dtype: int64"
      ]
     },
     "execution_count": 33,
     "metadata": {},
     "output_type": "execute_result"
    }
   ],
   "source": [
    "missing_v = df.isnull().sum()\n",
    "missing_v"
   ]
  },
  {
   "cell_type": "code",
   "execution_count": 34,
   "id": "920a2de2-27d7-462b-81ad-147f23bfa31c",
   "metadata": {
    "tags": []
   },
   "outputs": [
    {
     "data": {
      "text/html": [
       "<div>\n",
       "<style scoped>\n",
       "    .dataframe tbody tr th:only-of-type {\n",
       "        vertical-align: middle;\n",
       "    }\n",
       "\n",
       "    .dataframe tbody tr th {\n",
       "        vertical-align: top;\n",
       "    }\n",
       "\n",
       "    .dataframe thead th {\n",
       "        text-align: right;\n",
       "    }\n",
       "</style>\n",
       "<table border=\"1\" class=\"dataframe\">\n",
       "  <thead>\n",
       "    <tr style=\"text-align: right;\">\n",
       "      <th></th>\n",
       "      <th>ANAIS</th>\n",
       "      <th>ACCOUCHR</th>\n",
       "      <th>AGEMERE</th>\n",
       "      <th>AGEXACTM</th>\n",
       "      <th>DEPDOM</th>\n",
       "      <th>DEPNAIS</th>\n",
       "      <th>INDLNM</th>\n",
       "      <th>INDNATM</th>\n",
       "      <th>MNAIS</th>\n",
       "      <th>NBENF</th>\n",
       "      <th>ORIGINOM</th>\n",
       "      <th>SEXE</th>\n",
       "      <th>TUCOM</th>\n",
       "      <th>TUDOM</th>\n",
       "    </tr>\n",
       "  </thead>\n",
       "  <tbody>\n",
       "    <tr>\n",
       "      <th>0</th>\n",
       "      <td>2022</td>\n",
       "      <td>ES</td>\n",
       "      <td>29</td>\n",
       "      <td>28</td>\n",
       "      <td>01</td>\n",
       "      <td>69</td>\n",
       "      <td>1</td>\n",
       "      <td>1</td>\n",
       "      <td>1</td>\n",
       "      <td>1</td>\n",
       "      <td>1.0</td>\n",
       "      <td>1</td>\n",
       "      <td>P</td>\n",
       "      <td>0</td>\n",
       "    </tr>\n",
       "    <tr>\n",
       "      <th>1</th>\n",
       "      <td>2022</td>\n",
       "      <td>ES</td>\n",
       "      <td>32</td>\n",
       "      <td>31</td>\n",
       "      <td>01</td>\n",
       "      <td>71</td>\n",
       "      <td>1</td>\n",
       "      <td>1</td>\n",
       "      <td>7</td>\n",
       "      <td>1</td>\n",
       "      <td>1.0</td>\n",
       "      <td>2</td>\n",
       "      <td>P</td>\n",
       "      <td>0</td>\n",
       "    </tr>\n",
       "    <tr>\n",
       "      <th>2</th>\n",
       "      <td>2022</td>\n",
       "      <td>ES</td>\n",
       "      <td>29</td>\n",
       "      <td>28</td>\n",
       "      <td>01</td>\n",
       "      <td>01</td>\n",
       "      <td>1</td>\n",
       "      <td>1</td>\n",
       "      <td>8</td>\n",
       "      <td>1</td>\n",
       "      <td>1.0</td>\n",
       "      <td>1</td>\n",
       "      <td>P</td>\n",
       "      <td>0</td>\n",
       "    </tr>\n",
       "    <tr>\n",
       "      <th>3</th>\n",
       "      <td>2022</td>\n",
       "      <td>ES</td>\n",
       "      <td>27</td>\n",
       "      <td>26</td>\n",
       "      <td>01</td>\n",
       "      <td>01</td>\n",
       "      <td>1</td>\n",
       "      <td>1</td>\n",
       "      <td>9</td>\n",
       "      <td>1</td>\n",
       "      <td>1.0</td>\n",
       "      <td>2</td>\n",
       "      <td>P</td>\n",
       "      <td>0</td>\n",
       "    </tr>\n",
       "    <tr>\n",
       "      <th>4</th>\n",
       "      <td>2022</td>\n",
       "      <td>ES</td>\n",
       "      <td>35</td>\n",
       "      <td>35</td>\n",
       "      <td>01</td>\n",
       "      <td>69</td>\n",
       "      <td>1</td>\n",
       "      <td>1</td>\n",
       "      <td>10</td>\n",
       "      <td>1</td>\n",
       "      <td>1.0</td>\n",
       "      <td>2</td>\n",
       "      <td>P</td>\n",
       "      <td>0</td>\n",
       "    </tr>\n",
       "    <tr>\n",
       "      <th>...</th>\n",
       "      <td>...</td>\n",
       "      <td>...</td>\n",
       "      <td>...</td>\n",
       "      <td>...</td>\n",
       "      <td>...</td>\n",
       "      <td>...</td>\n",
       "      <td>...</td>\n",
       "      <td>...</td>\n",
       "      <td>...</td>\n",
       "      <td>...</td>\n",
       "      <td>...</td>\n",
       "      <td>...</td>\n",
       "      <td>...</td>\n",
       "      <td>...</td>\n",
       "    </tr>\n",
       "    <tr>\n",
       "      <th>725992</th>\n",
       "      <td>2022</td>\n",
       "      <td>ES</td>\n",
       "      <td>33</td>\n",
       "      <td>33</td>\n",
       "      <td>99</td>\n",
       "      <td>34</td>\n",
       "      <td>4</td>\n",
       "      <td>2</td>\n",
       "      <td>12</td>\n",
       "      <td>1</td>\n",
       "      <td>2.0</td>\n",
       "      <td>2</td>\n",
       "      <td>inconnu</td>\n",
       "      <td>9</td>\n",
       "    </tr>\n",
       "    <tr>\n",
       "      <th>725993</th>\n",
       "      <td>2022</td>\n",
       "      <td>ES</td>\n",
       "      <td>33</td>\n",
       "      <td>33</td>\n",
       "      <td>99</td>\n",
       "      <td>75</td>\n",
       "      <td>1</td>\n",
       "      <td>1</td>\n",
       "      <td>12</td>\n",
       "      <td>1</td>\n",
       "      <td>1.0</td>\n",
       "      <td>2</td>\n",
       "      <td>inconnu</td>\n",
       "      <td>9</td>\n",
       "    </tr>\n",
       "    <tr>\n",
       "      <th>725994</th>\n",
       "      <td>2022</td>\n",
       "      <td>ES</td>\n",
       "      <td>17</td>\n",
       "      <td>17</td>\n",
       "      <td>99</td>\n",
       "      <td>59</td>\n",
       "      <td>4</td>\n",
       "      <td>2</td>\n",
       "      <td>12</td>\n",
       "      <td>2</td>\n",
       "      <td>1.0</td>\n",
       "      <td>1</td>\n",
       "      <td>inconnu</td>\n",
       "      <td>9</td>\n",
       "    </tr>\n",
       "    <tr>\n",
       "      <th>725995</th>\n",
       "      <td>2022</td>\n",
       "      <td>ES</td>\n",
       "      <td>17</td>\n",
       "      <td>17</td>\n",
       "      <td>99</td>\n",
       "      <td>59</td>\n",
       "      <td>4</td>\n",
       "      <td>2</td>\n",
       "      <td>12</td>\n",
       "      <td>2</td>\n",
       "      <td>1.0</td>\n",
       "      <td>1</td>\n",
       "      <td>inconnu</td>\n",
       "      <td>9</td>\n",
       "    </tr>\n",
       "    <tr>\n",
       "      <th>725996</th>\n",
       "      <td>2022</td>\n",
       "      <td>ES</td>\n",
       "      <td>32</td>\n",
       "      <td>32</td>\n",
       "      <td>99</td>\n",
       "      <td>42</td>\n",
       "      <td>4</td>\n",
       "      <td>2</td>\n",
       "      <td>12</td>\n",
       "      <td>1</td>\n",
       "      <td>1.0</td>\n",
       "      <td>2</td>\n",
       "      <td>inconnu</td>\n",
       "      <td>9</td>\n",
       "    </tr>\n",
       "  </tbody>\n",
       "</table>\n",
       "<p>725997 rows × 14 columns</p>\n",
       "</div>"
      ],
      "text/plain": [
       "        ANAIS ACCOUCHR  AGEMERE  AGEXACTM DEPDOM DEPNAIS  INDLNM  INDNATM  \\\n",
       "0        2022       ES       29        28     01      69       1        1   \n",
       "1        2022       ES       32        31     01      71       1        1   \n",
       "2        2022       ES       29        28     01      01       1        1   \n",
       "3        2022       ES       27        26     01      01       1        1   \n",
       "4        2022       ES       35        35     01      69       1        1   \n",
       "...       ...      ...      ...       ...    ...     ...     ...      ...   \n",
       "725992   2022       ES       33        33     99      34       4        2   \n",
       "725993   2022       ES       33        33     99      75       1        1   \n",
       "725994   2022       ES       17        17     99      59       4        2   \n",
       "725995   2022       ES       17        17     99      59       4        2   \n",
       "725996   2022       ES       32        32     99      42       4        2   \n",
       "\n",
       "        MNAIS  NBENF ORIGINOM  SEXE    TUCOM  TUDOM  \n",
       "0           1      1      1.0     1        P      0  \n",
       "1           7      1      1.0     2        P      0  \n",
       "2           8      1      1.0     1        P      0  \n",
       "3           9      1      1.0     2        P      0  \n",
       "4          10      1      1.0     2        P      0  \n",
       "...       ...    ...      ...   ...      ...    ...  \n",
       "725992     12      1      2.0     2  inconnu      9  \n",
       "725993     12      1      1.0     2  inconnu      9  \n",
       "725994     12      2      1.0     1  inconnu      9  \n",
       "725995     12      2      1.0     1  inconnu      9  \n",
       "725996     12      1      1.0     2  inconnu      9  \n",
       "\n",
       "[725997 rows x 14 columns]"
      ]
     },
     "execution_count": 34,
     "metadata": {},
     "output_type": "execute_result"
    }
   ],
   "source": [
    "df"
   ]
  },
  {
   "cell_type": "markdown",
   "id": "2bbfe645-a7b1-4a5c-b033-5e3110d6d228",
   "metadata": {},
   "source": [
    "Nos données manquantes ont été traitées !"
   ]
  },
  {
   "cell_type": "markdown",
   "id": "b13199fb-cfae-4bbe-ba25-3c70cb881553",
   "metadata": {},
   "source": [
    "## Traitement des données abérrantes"
   ]
  },
  {
   "cell_type": "code",
   "execution_count": 35,
   "id": "6e7114d9-7cbd-4573-96f2-57258fdefac3",
   "metadata": {
    "tags": []
   },
   "outputs": [
    {
     "data": {
      "text/plain": [
       "Series([], Name: AGEXACTM, dtype: int64)"
      ]
     },
     "execution_count": 35,
     "metadata": {},
     "output_type": "execute_result"
    }
   ],
   "source": [
    "import pandas as pd\n",
    "import numpy as np\n",
    "\n",
    "def detect_abberation(df, n_std=3):\n",
    "    mean = np.mean(df)\n",
    "    std = np.std(df)\n",
    "\n",
    "    lower_limit = mean - (n_std * std)\n",
    "    upper_limit = mean + (n_std * std)\n",
    "\n",
    "    return df[(df < lower_limit) | (df > upper_limit)]\n",
    "\n",
    "aber_agemere = detect_abberation(df['AGEXACTM'])\n",
    "aber_agemere"
   ]
  },
  {
   "cell_type": "markdown",
   "id": "ab18b235-2e7d-43ee-ad81-4f0c66cfa622",
   "metadata": {},
   "source": [
    "Il n'y a aucune valeur abberante dans nos deux varibles père et mère s'il y'en avait, les valeurs aberrantes seraient traitées de différentes manières, telles que leur suppression ou leur remplacement par une valeur médiane ou moyenne."
   ]
  },
  {
   "cell_type": "markdown",
   "id": "c4471ba9-7470-4237-8509-d488c24c98b8",
   "metadata": {},
   "source": [
    "### MERE "
   ]
  },
  {
   "cell_type": "code",
   "execution_count": 36,
   "id": "f4580149-05d1-4367-9844-248729396e52",
   "metadata": {
    "tags": []
   },
   "outputs": [
    {
     "name": "stdout",
     "output_type": "stream",
     "text": [
      "En moyenne l'âge de la mère au moment de la naissance de l'enfant est: 30.7479466168593\n",
      "avec un écart de plus ou moins 5.394453476344521\n",
      "L'âge minimal des mères est: 17\n",
      "La mère la plus agée a 46 ans\n"
     ]
    }
   ],
   "source": [
    "moyenne = data_naissance[\"AGEXACTM\"].mean()\n",
    "print(\"En moyenne l'âge de la mère au moment de la naissance de l'enfant est:\", moyenne)\n",
    "ecart_type = data_naissance[\"AGEXACTM\"].std()\n",
    "print(\"avec un écart de plus ou moins\", ecart_type)\n",
    "print(\"L'âge minimal des mères est:\", data_naissance['AGEXACTM'].min())\n",
    "print(\"La mère la plus agée a\", data_naissance['AGEXACTM'].max(), \"ans\")"
   ]
  },
  {
   "cell_type": "markdown",
   "id": "9a9c753b-fc11-450e-bf1f-5122b66a3109",
   "metadata": {},
   "source": [
    "### Graphique en boîte Age des parents"
   ]
  },
  {
   "cell_type": "code",
   "execution_count": 37,
   "id": "2af509dc-b571-4d99-850e-7f7cbf616a6b",
   "metadata": {
    "tags": []
   },
   "outputs": [
    {
     "data": {
      "image/png": "[encoded data removed]",
      "text/plain": [
       "<Figure size 1000x600 with 1 Axes>"
      ]
     },
     "metadata": {},
     "output_type": "display_data"
    }
   ],
   "source": [
    "import matplotlib.pyplot as plt\n",
    "import seaborn as sns\n",
    "plt.figure(figsize=(10, 6))\n",
    "sns.boxplot(data=df['AGEMERE'])\n",
    "plt.title('AGE moyen et écart-type')\n",
    "plt.xlabel(\"Mère\")\n",
    "plt.ylabel('Âge')\n",
    "plt.show()"
   ]
  },
  {
   "cell_type": "markdown",
   "id": "4fd8dbca-cc04-47a3-b0e1-fec4d7befd4c",
   "metadata": {},
   "source": [
    "### NBENF (Nombre d'enfants issus de l'accouchement)"
   ]
  },
  {
   "cell_type": "code",
   "execution_count": 38,
   "id": "eb13c705-59de-4c7b-80f5-5e45ba3dd784",
   "metadata": {
    "tags": []
   },
   "outputs": [
    {
     "name": "stdout",
     "output_type": "stream",
     "text": [
      "1.0315125269112682\n",
      "0.1780255312646165\n",
      "1\n",
      "Le nombre max de bébé par accouchement est 3\n"
     ]
    }
   ],
   "source": [
    "moyenne = data_naissance[\"NBENF\"].mean()\n",
    "print(moyenne)\n",
    "ecart_type = data_naissance[\"NBENF\"].std()\n",
    "print(ecart_type)\n",
    "print(data_naissance['NBENF'].min())\n",
    "print(\"Le nombre max de bébé par accouchement est\", data_naissance['NBENF'].max())"
   ]
  },
  {
   "cell_type": "markdown",
   "id": "05483730-ad04-40fd-b473-99a20ce486fd",
   "metadata": {},
   "source": [
    "### Diagramme à barre age mère par nombre de naissance"
   ]
  },
  {
   "cell_type": "code",
   "execution_count": 41,
   "id": "633ac2ea-e6cd-4b2b-8391-a17a5ae951c6",
   "metadata": {
    "tags": []
   },
   "outputs": [
    {
     "data": {
      "image/png": "[encoded data removed]",
      "text/plain": [
       "<Figure size 1000x600 with 1 Axes>"
      ]
     },
     "metadata": {},
     "output_type": "display_data"
    }
   ],
   "source": [
    "donnees = df.groupby('AGEMERE')['NBENF'].mean().reset_index()\n",
    "\n",
    "plt.figure(figsize=(10, 6))\n",
    "sns.barplot(x='AGEMERE', y='NBENF', data=donnees, palette=\"Blues_d\")\n",
    "\n",
    "plt.title('Nombre moyen d\\'enfants par accouchement en fonction de l\\'âge de la mère')\n",
    "plt.xlabel('Âge de la Mère')\n",
    "plt.ylabel('Nombre moyen d\\'Enfants par Accouchement')\n",
    "\n",
    "plt.show()"
   ]
  },
  {
   "cell_type": "markdown",
   "id": "fc92640a-61c4-4b98-85e7-22e302c3ed2e",
   "metadata": {},
   "source": [
    "### SEXE"
   ]
  },
  {
   "cell_type": "code",
   "execution_count": 22,
   "id": "8559a626-129f-4928-8906-4aa7e981b7ee",
   "metadata": {
    "tags": []
   },
   "outputs": [
    {
     "name": "stdout",
     "output_type": "stream",
     "text": [
      "Il y'a eu  371309 naissances de garçons soit 51.14470169986928 %\n",
      "Il y'a eu  354688 naissances de filles soit 48.85529830013072 %\n"
     ]
    }
   ],
   "source": [
    "nombre_garcons = df[df['SEXE'] == 1].shape[0]\n",
    "nombre_filles = df[df['SEXE'] == 2].shape[0]\n",
    "\n",
    "print(\"Il y'a eu \", nombre_garcons, \"naissances de garçons soit\", (nombre_garcons*100) / len(df[\"SEXE\"]), \"%\")\n",
    "print(\"Il y'a eu \", nombre_filles, \"naissances de filles soit\",  (nombre_filles*100) / len(df[\"SEXE\"]), \"%\")"
   ]
  },
  {
   "cell_type": "markdown",
   "id": "433ce920-11d1-4572-b10d-5e3e02ae4315",
   "metadata": {},
   "source": [
    "### Diagramme de distribution du sexe des enfants"
   ]
  },
  {
   "cell_type": "code",
   "execution_count": 23,
   "id": "98aa5df2-01f9-4144-b906-2dff053be218",
   "metadata": {
    "tags": []
   },
   "outputs": [
    {
     "data": {
      "image/png": "[encoded data removed]",
      "text/plain": [
       "<Figure size 1000x600 with 1 Axes>"
      ]
     },
     "metadata": {},
     "output_type": "display_data"
    }
   ],
   "source": [
    "plt.figure(figsize=(10,6))\n",
    "sex_distribution = df['SEXE'].value_counts()\n",
    "sns.barplot(x=sex_distribution.index, y=sex_distribution.values)\n",
    "plt.title('Répartition du Sexe des Enfants')\n",
    "plt.xlabel('Sexe')\n",
    "plt.ylabel('Nombre de Naissances')\n",
    "plt.xticks([0, 1], ['Garçon', 'Fille'])\n",
    "plt.show()"
   ]
  },
  {
   "cell_type": "markdown",
   "id": "9cf786fa-2cc4-4d6d-8578-648519ea692f",
   "metadata": {},
   "source": [
    "### Histogramme MERE"
   ]
  },
  {
   "cell_type": "code",
   "execution_count": 25,
   "id": "0c75aaf2-8774-4606-ade0-c5ba5c261834",
   "metadata": {
    "tags": []
   },
   "outputs": [
    {
     "data": {
      "image/png": "[encoded data removed]",
      "text/plain": [
       "<Figure size 1000x600 with 1 Axes>"
      ]
     },
     "metadata": {},
     "output_type": "display_data"
    }
   ],
   "source": [
    "plt.figure(figsize=(10, 6))\n",
    "plt.hist(df['AGEMERE'], bins=50, alpha=0.5, label='Age de la mère', color='red', log=True)\n",
    "\n",
    "plt.xlabel('Age')\n",
    "plt.ylabel('Effectif (log)')\n",
    "plt.title(\"Histogrammes superposés de l'âge des mères\")\n",
    "plt.legend()\n",
    "plt.show()"
   ]
  },
  {
   "cell_type": "markdown",
   "id": "5d3745f4-e16f-4233-8e28-ba0644e89f9c",
   "metadata": {},
   "source": [
    "### Histogramme mois de naissance"
   ]
  },
  {
   "cell_type": "code",
   "execution_count": 26,
   "id": "d6d9012d-fa47-4f53-8825-44c7173b637b",
   "metadata": {
    "tags": []
   },
   "outputs": [
    {
     "data": {
      "image/png": "[encoded data removed]",
      "text/plain": [
       "<Figure size 1000x600 with 1 Axes>"
      ]
     },
     "metadata": {},
     "output_type": "display_data"
    }
   ],
   "source": [
    "plt.figure(figsize=(10, 6))\n",
    "df[\"MNAIS\"].plot.hist(bins = 35, color = \"blue\")\n",
    "\"\"\"plt.yscale(\"log\")\"\"\"\n",
    "plt.xlabel(\"Mois de naissance\")\n",
    "plt.ylabel(\"Nombre de naissance\")\n",
    "plt.title(\"Histogramme de naissance par mois\")\n",
    "plt.show()"
   ]
  },
  {
   "cell_type": "markdown",
   "id": "db4c12d9-6ddb-4e0d-ba0d-9b7d34a100c8",
   "metadata": {
    "tags": []
   },
   "source": [
    "### Graphique de dispersion avec regression"
   ]
  },
  {
   "cell_type": "code",
   "execution_count": 19,
   "id": "6dc5f0ce-afbe-4fd0-be4e-47a5288d8cd9",
   "metadata": {
    "tags": []
   },
   "outputs": [
    {
     "data": {
      "image/png": "[encoded data removed]",
      "text/plain": [
       "<Figure size 1000x600 with 1 Axes>"
      ]
     },
     "metadata": {},
     "output_type": "display_data"
    }
   ],
   "source": [
    "import seaborn as sns\n",
    "\n",
    "sns.set(style=\"darkgrid\")\n",
    "\n",
    "plt.figure(figsize=(10, 6))\n",
    "sns.regplot(x='AGEMERE', y='AGEPERE', data=df, scatter_kws={'alpha':0.1, 'color':\"blue\"}, line_kws={'color':'green'})\n",
    "plt.title('Relation entre l’Âge de la Mère et l’Âge du Père')\n",
    "plt.xlabel('Âge de la Mère')\n",
    "plt.ylabel('Âge du Père')\n",
    "\n",
    "plt.show()\n",
    "\n",
    "# equation de la droite et le coefficient de correlation"
   ]
  },
  {
   "cell_type": "code",
   "execution_count": 20,
   "id": "573689c8-55f9-40d2-8bea-75eb8cf24ceb",
   "metadata": {
    "tags": []
   },
   "outputs": [
    {
     "name": "stdout",
     "output_type": "stream",
     "text": [
      "L'équation de la droite est: y = 0.7924003841453856x + 9.171509517972762\n",
      "Coefficient de corrélation de Pearson: 0.7032456978176908\n"
     ]
    }
   ],
   "source": [
    "import numpy as np\n",
    "from sklearn.linear_model import LinearRegression\n",
    "from scipy.stats import pearsonr\n",
    "import matplotlib.pyplot as plt\n",
    "import seaborn as sns\n",
    "\n",
    "X = df[['AGEMERE']].values\n",
    "y = df['AGEPERE'].values\n",
    "\n",
    "model = LinearRegression()\n",
    "model.fit(X, y)\n",
    "\n",
    "m = model.coef_[0]\n",
    "c = model.intercept_\n",
    "print(f\"L'équation de la droite est: y = {m}x + {c}\")\n",
    "\n",
    "\n",
    "corr, _ = pearsonr(df['AGEMERE'], df['AGEPERE'])\n",
    "print(\"Coefficient de corrélation de Pearson:\", corr)"
   ]
  },
  {
   "cell_type": "markdown",
   "id": "157b48e6-5b3c-4597-8bf5-f1448b73c0f3",
   "metadata": {},
   "source": [
    "Chaque point sur notre graphique représente un couple de parents, avec l'âge de la mère sur l'axe des x et celui du père sur l'axe des y.\n",
    "La distribution des points nous donne une idée de la relation entre les deux variables."
   ]
  },
  {
   "cell_type": "markdown",
   "id": "3540f8d6-607e-44cc-9275-bbec07ca2d38",
   "metadata": {},
   "source": [
    "### Tableau d’effectifs (à la manière du khi deux) : sexe bébé + Age de la mère pour voir si l'âge de la mère influ sur le sexe du de l'enfant "
   ]
  },
  {
   "cell_type": "code",
   "execution_count": 21,
   "id": "5a9218e3-0fcc-4946-bf6e-bb3492c07be6",
   "metadata": {
    "tags": []
   },
   "outputs": [
    {
     "name": "stderr",
     "output_type": "stream",
     "text": [
      "C:\\Users\\konta\\AppData\\Local\\Temp\\ipykernel_11676\\1294174229.py:5: SettingWithCopyWarning: \n",
      "A value is trying to be set on a copy of a slice from a DataFrame.\n",
      "Try using .loc[row_indexer,col_indexer] = value instead\n",
      "\n",
      "See the caveats in the documentation: https://pandas.pydata.org/pandas-docs/stable/user_guide/indexing.html#returning-a-view-versus-a-copy\n",
      "  df['CategorieAgeMere'] = pd.cut(df['AGEMERE'], bins=bins, labels=labels, right=True)\n"
     ]
    }
   ],
   "source": [
    "from scipy.stats import chi2_contingency\n",
    "\n",
    "bins = [16, 25, 34, 46] \n",
    "labels = ['17-25', '26-34', '35-46'] \n",
    "df['CategorieAgeMere'] = pd.cut(df['AGEMERE'], bins=bins, labels=labels, right=True)\n",
    "\n",
    "tableau_effectifs = pd.crosstab(df['SEXE'], df['CategorieAgeMere'])"
   ]
  },
  {
   "cell_type": "code",
   "execution_count": 22,
   "id": "d33f8c84-ddaa-4716-94d5-9751d8d343f3",
   "metadata": {
    "tags": []
   },
   "outputs": [
    {
     "data": {
      "text/html": [
       "<div>\n",
       "<style scoped>\n",
       "    .dataframe tbody tr th:only-of-type {\n",
       "        vertical-align: middle;\n",
       "    }\n",
       "\n",
       "    .dataframe tbody tr th {\n",
       "        vertical-align: top;\n",
       "    }\n",
       "\n",
       "    .dataframe thead th {\n",
       "        text-align: right;\n",
       "    }\n",
       "</style>\n",
       "<table border=\"1\" class=\"dataframe\">\n",
       "  <thead>\n",
       "    <tr style=\"text-align: right;\">\n",
       "      <th>CategorieAgeMere</th>\n",
       "      <th>17-25</th>\n",
       "      <th>26-34</th>\n",
       "      <th>35-46</th>\n",
       "    </tr>\n",
       "    <tr>\n",
       "      <th>SEXE</th>\n",
       "      <th></th>\n",
       "      <th></th>\n",
       "      <th></th>\n",
       "    </tr>\n",
       "  </thead>\n",
       "  <tbody>\n",
       "    <tr>\n",
       "      <th>1</th>\n",
       "      <td>56020</td>\n",
       "      <td>220133</td>\n",
       "      <td>103112</td>\n",
       "    </tr>\n",
       "    <tr>\n",
       "      <th>2</th>\n",
       "      <td>53208</td>\n",
       "      <td>210640</td>\n",
       "      <td>98939</td>\n",
       "    </tr>\n",
       "  </tbody>\n",
       "</table>\n",
       "</div>"
      ],
      "text/plain": [
       "CategorieAgeMere  17-25   26-34   35-46\n",
       "SEXE                                   \n",
       "1                 56020  220133  103112\n",
       "2                 53208  210640   98939"
      ]
     },
     "execution_count": 22,
     "metadata": {},
     "output_type": "execute_result"
    }
   ],
   "source": [
    "tableau_effectifs"
   ]
  },
  {
   "cell_type": "code",
   "execution_count": 23,
   "id": "f96517ba-a57c-45a9-9f56-0f67e0e6de82",
   "metadata": {
    "tags": []
   },
   "outputs": [
    {
     "name": "stdout",
     "output_type": "stream",
     "text": [
      "Statistique du test: 1.8678862514246175\n",
      "Le degré de liberté: 2\n",
      "P-value: 0.393000998771692\n"
     ]
    }
   ],
   "source": [
    "stat, p, dof, expected = chi2_contingency(tableau_effectifs)\n",
    "print(\"Statistique du test:\", stat)\n",
    "print(\"Le degré de liberté:\", dof)\n",
    "print(\"P-value:\", p)"
   ]
  },
  {
   "cell_type": "code",
   "execution_count": 24,
   "id": "90647a53-a0dd-4113-b7cd-4377ba922c37",
   "metadata": {
    "tags": []
   },
   "outputs": [
    {
     "name": "stderr",
     "output_type": "stream",
     "text": [
      "C:\\Users\\konta\\AppData\\Local\\Temp\\ipykernel_11676\\2059532159.py:3: SettingWithCopyWarning: \n",
      "A value is trying to be set on a copy of a slice from a DataFrame.\n",
      "Try using .loc[row_indexer,col_indexer] = value instead\n",
      "\n",
      "See the caveats in the documentation: https://pandas.pydata.org/pandas-docs/stable/user_guide/indexing.html#returning-a-view-versus-a-copy\n",
      "  df['CategorieAgePere'] = pd.cut(df['AGEPERE'], bins=bins, labels=labels, right=True)\n"
     ]
    }
   ],
   "source": [
    "bins = [16, 25, 34, 46] \n",
    "labels = ['17-25', '26-34', '35-46'] \n",
    "df['CategorieAgePere'] = pd.cut(df['AGEPERE'], bins=bins, labels=labels, right=True)\n",
    "\n",
    "tableau_effectifs = pd.crosstab(df['SEXE'], df['CategorieAgePere'])"
   ]
  },
  {
   "cell_type": "code",
   "execution_count": 25,
   "id": "3c72029f-bb02-483a-8f66-983adc09a8f3",
   "metadata": {
    "tags": []
   },
   "outputs": [
    {
     "data": {
      "text/html": [
       "<div>\n",
       "<style scoped>\n",
       "    .dataframe tbody tr th:only-of-type {\n",
       "        vertical-align: middle;\n",
       "    }\n",
       "\n",
       "    .dataframe tbody tr th {\n",
       "        vertical-align: top;\n",
       "    }\n",
       "\n",
       "    .dataframe thead th {\n",
       "        text-align: right;\n",
       "    }\n",
       "</style>\n",
       "<table border=\"1\" class=\"dataframe\">\n",
       "  <thead>\n",
       "    <tr style=\"text-align: right;\">\n",
       "      <th>CategorieAgePere</th>\n",
       "      <th>17-25</th>\n",
       "      <th>26-34</th>\n",
       "      <th>35-46</th>\n",
       "    </tr>\n",
       "    <tr>\n",
       "      <th>SEXE</th>\n",
       "      <th></th>\n",
       "      <th></th>\n",
       "      <th></th>\n",
       "    </tr>\n",
       "  </thead>\n",
       "  <tbody>\n",
       "    <tr>\n",
       "      <th>1</th>\n",
       "      <td>28070</td>\n",
       "      <td>187014</td>\n",
       "      <td>164181</td>\n",
       "    </tr>\n",
       "    <tr>\n",
       "      <th>2</th>\n",
       "      <td>26832</td>\n",
       "      <td>178189</td>\n",
       "      <td>157766</td>\n",
       "    </tr>\n",
       "  </tbody>\n",
       "</table>\n",
       "</div>"
      ],
      "text/plain": [
       "CategorieAgePere  17-25   26-34   35-46\n",
       "SEXE                                   \n",
       "1                 28070  187014  164181\n",
       "2                 26832  178189  157766"
      ]
     },
     "execution_count": 25,
     "metadata": {},
     "output_type": "execute_result"
    }
   ],
   "source": [
    "tableau_effectifs"
   ]
  },
  {
   "cell_type": "code",
   "execution_count": 26,
   "id": "b58df6df-0af3-405e-8e83-3ccc136e6386",
   "metadata": {
    "tags": []
   },
   "outputs": [
    {
     "name": "stdout",
     "output_type": "stream",
     "text": [
      "Statistique du test: 3.0831489551755875\n",
      "Le degré de liberté: 2\n",
      "P-value: 0.21404382877132758\n"
     ]
    }
   ],
   "source": [
    "stat, p, dof, expected = chi2_contingency(tableau_effectifs)\n",
    "print(\"Statistique du test:\", stat)\n",
    "print(\"Le degré de liberté:\", dof)\n",
    "print(\"P-value:\", p)"
   ]
  },
  {
   "cell_type": "code",
   "execution_count": 27,
   "id": "824d3a63-b3bb-4cac-b275-c5d296b54718",
   "metadata": {
    "tags": []
   },
   "outputs": [
    {
     "data": {
      "text/html": [
       "<div>\n",
       "<style scoped>\n",
       "    .dataframe tbody tr th:only-of-type {\n",
       "        vertical-align: middle;\n",
       "    }\n",
       "\n",
       "    .dataframe tbody tr th {\n",
       "        vertical-align: top;\n",
       "    }\n",
       "\n",
       "    .dataframe thead th {\n",
       "        text-align: right;\n",
       "    }\n",
       "</style>\n",
       "<table border=\"1\" class=\"dataframe\">\n",
       "  <thead>\n",
       "    <tr style=\"text-align: right;\">\n",
       "      <th>CategorieAgeMere</th>\n",
       "      <th>17-25</th>\n",
       "      <th>26-34</th>\n",
       "      <th>35-46</th>\n",
       "    </tr>\n",
       "    <tr>\n",
       "      <th>NBENF</th>\n",
       "      <th></th>\n",
       "      <th></th>\n",
       "      <th></th>\n",
       "    </tr>\n",
       "  </thead>\n",
       "  <tbody>\n",
       "    <tr>\n",
       "      <th>1</th>\n",
       "      <td>107106</td>\n",
       "      <td>417991</td>\n",
       "      <td>194268</td>\n",
       "    </tr>\n",
       "    <tr>\n",
       "      <th>2</th>\n",
       "      <td>2091</td>\n",
       "      <td>12500</td>\n",
       "      <td>7612</td>\n",
       "    </tr>\n",
       "    <tr>\n",
       "      <th>3</th>\n",
       "      <td>31</td>\n",
       "      <td>282</td>\n",
       "      <td>171</td>\n",
       "    </tr>\n",
       "  </tbody>\n",
       "</table>\n",
       "</div>"
      ],
      "text/plain": [
       "CategorieAgeMere   17-25   26-34   35-46\n",
       "NBENF                                   \n",
       "1                 107106  417991  194268\n",
       "2                   2091   12500    7612\n",
       "3                     31     282     171"
      ]
     },
     "execution_count": 27,
     "metadata": {},
     "output_type": "execute_result"
    }
   ],
   "source": [
    "tableau2 = pd.crosstab(df[\"NBENF\"], df[\"CategorieAgeMere\"])\n",
    "tableau2"
   ]
  },
  {
   "cell_type": "code",
   "execution_count": 28,
   "id": "91c37a68-1281-40d7-91b0-e6e792ea6375",
   "metadata": {
    "tags": []
   },
   "outputs": [
    {
     "name": "stdout",
     "output_type": "stream",
     "text": [
      "Statistique du test: 903.5729668013219\n",
      "Le degré de liberté: 4\n",
      "P-value: 2.8023134704521e-194\n"
     ]
    }
   ],
   "source": [
    "stat, p, dof, expected = chi2_contingency(tableau2)\n",
    "print(\"Statistique du test:\", stat)\n",
    "print(\"Le degré de liberté:\", dof)\n",
    "print(\"P-value:\", p)"
   ]
  },
  {
   "cell_type": "markdown",
   "id": "edf63db0-6cc3-480f-abf0-e89bbed122b7",
   "metadata": {
    "tags": []
   },
   "source": [
    "### Faire un test de normalité pour chaque histo mere et pere"
   ]
  },
  {
   "cell_type": "code",
   "execution_count": 29,
   "id": "d580e135-4811-450e-98aa-e85e65ea9e18",
   "metadata": {
    "tags": []
   },
   "outputs": [
    {
     "name": "stdout",
     "output_type": "stream",
     "text": [
      "Statistique de test pour l'âge des mères: 0.9942370653152466, P-value: 0.0\n",
      "Statistique de test pour l'âge des pères: 0.985175609588623, P-value: 0.0\n"
     ]
    },
    {
     "name": "stderr",
     "output_type": "stream",
     "text": [
      "C:\\Users\\konta\\anaconda3\\Lib\\site-packages\\scipy\\stats\\_morestats.py:1882: UserWarning: p-value may not be accurate for N > 5000.\n",
      "  warnings.warn(\"p-value may not be accurate for N > 5000.\")\n"
     ]
    }
   ],
   "source": [
    "from scipy.stats import shapiro\n",
    "stat_mere, p_mere = shapiro(df['AGEMERE'].dropna())\n",
    "print(f\"Statistique de test pour l'âge des mères: {stat_mere}, P-value: {p_mere}\")\n",
    "\n",
    "stat_pere, p_pere = shapiro(df['AGEPERE'].dropna())\n",
    "print(f\"Statistique de test pour l'âge des pères: {stat_pere}, P-value: {p_pere}\")"
   ]
  },
  {
   "cell_type": "code",
   "execution_count": null,
   "id": "11436fd9-e479-4caa-a5f8-d1f5c3694652",
   "metadata": {},
   "outputs": [],
   "source": []
  },
  {
   "cell_type": "markdown",
   "id": "3a22ae4b-05ec-4acd-ab83-ad45cc9e56fa",
   "metadata": {},
   "source": [
    "Faire le test de normalité sur un effictif de moins de 5000 \n",
    "Equilibré aussi les effectifs par categories dans le tableau des effetifs pour le calcul du khi2"
   ]
  },
  {
   "cell_type": "code",
   "execution_count": 31,
   "id": "97effc7d-e9bd-4af3-85c9-743c6e0ac9bd",
   "metadata": {
    "tags": []
   },
   "outputs": [],
   "source": [
    "df_SeineMaritime = df[df['DEPDOM'] == 76]"
   ]
  },
  {
   "cell_type": "code",
   "execution_count": 32,
   "id": "105c7d78-69cb-4c4e-aae5-129cb362b69d",
   "metadata": {
    "tags": []
   },
   "outputs": [
    {
     "data": {
      "text/html": [
       "<div>\n",
       "<style scoped>\n",
       "    .dataframe tbody tr th:only-of-type {\n",
       "        vertical-align: middle;\n",
       "    }\n",
       "\n",
       "    .dataframe tbody tr th {\n",
       "        vertical-align: top;\n",
       "    }\n",
       "\n",
       "    .dataframe thead th {\n",
       "        text-align: right;\n",
       "    }\n",
       "</style>\n",
       "<table border=\"1\" class=\"dataframe\">\n",
       "  <thead>\n",
       "    <tr style=\"text-align: right;\">\n",
       "      <th></th>\n",
       "      <th>ANAIS</th>\n",
       "      <th>MNAIS</th>\n",
       "      <th>ACCOUCHR</th>\n",
       "      <th>AGEMERE</th>\n",
       "      <th>AGEPERE</th>\n",
       "      <th>INDNATM</th>\n",
       "      <th>INDNATP</th>\n",
       "      <th>AMAR</th>\n",
       "      <th>DEPDOM</th>\n",
       "      <th>DEPNAIS</th>\n",
       "      <th>NBENF</th>\n",
       "      <th>SEXE</th>\n",
       "      <th>CategorieAgeMere</th>\n",
       "      <th>CategorieAgePere</th>\n",
       "    </tr>\n",
       "  </thead>\n",
       "  <tbody>\n",
       "  </tbody>\n",
       "</table>\n",
       "</div>"
      ],
      "text/plain": [
       "Empty DataFrame\n",
       "Columns: [ANAIS, MNAIS, ACCOUCHR, AGEMERE, AGEPERE, INDNATM, INDNATP, AMAR, DEPDOM, DEPNAIS, NBENF, SEXE, CategorieAgeMere, CategorieAgePere]\n",
       "Index: []"
      ]
     },
     "execution_count": 32,
     "metadata": {},
     "output_type": "execute_result"
    }
   ],
   "source": [
    "df_SeineMaritime"
   ]
  }
 ],
 "metadata": {
  "kernelspec": {
   "display_name": "Python 3 (ipykernel)",
   "language": "python",
   "name": "python3"
  },
  "language_info": {
   "codemirror_mode": {
    "name": "ipython",
    "version": 3
   },
   "file_extension": ".py",
   "mimetype": "text/x-python",
   "name": "python",
   "nbconvert_exporter": "python",
   "pygments_lexer": "ipython3",
   "version": "3.11.5"
  }
 },
 "nbformat": 4,
 "nbformat_minor": 5
}
