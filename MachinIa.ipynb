{
 "cells": [
  {
   "cell_type": "markdown",
   "id": "5385cc67-0231-49ab-81c5-7a9763b04833",
   "metadata": {},
   "source": [
    "# MACHINE LEARNING"
   ]
  },
  {
   "cell_type": "markdown",
   "id": "32434a4e-dd76-4116-841b-eeb2d3b81d5f",
   "metadata": {},
   "source": [
    "### IF, ELSE"
   ]
  },
  {
   "cell_type": "code",
   "execution_count": 32,
   "id": "f0b3d6a9-b86d-4374-b96b-5381b7ba86a0",
   "metadata": {
    "tags": []
   },
   "outputs": [
    {
     "name": "stdin",
     "output_type": "stream",
     "text": [
      "Donner la valeur de x: -5\n"
     ]
    },
    {
     "name": "stdout",
     "output_type": "stream",
     "text": [
      "x n'est pas nul\n",
      "et negatif\n"
     ]
    }
   ],
   "source": [
    "def signe(x = int(input(\"Donner la valeur de x:\"))):\n",
    "    if x == 0 : \n",
    "        print(\"x est nul\")\n",
    "    elif x < 0 or x > 0 :\n",
    "        print(\"x n'est pas nul\")\n",
    "        if x<0:\n",
    "            print(\"et negatif\")\n",
    "        else:\n",
    "            print(\"et positif\")\n",
    "signe()\n"
   ]
  },
  {
   "cell_type": "markdown",
   "id": "4f7d8c1f-2863-4ad6-bdee-a15fc3c3d3af",
   "metadata": {},
   "source": [
    "### FOR"
   ]
  }
 ],
 "metadata": {
  "kernelspec": {
   "display_name": "Python 3 (ipykernel)",
   "language": "python",
   "name": "python3"
  },
  "language_info": {
   "codemirror_mode": {
    "name": "ipython",
    "version": 3
   },
   "file_extension": ".py",
   "mimetype": "text/x-python",
   "name": "python",
   "nbconvert_exporter": "python",
   "pygments_lexer": "ipython3",
   "version": "3.11.5"
  }
 },
 "nbformat": 4,
 "nbformat_minor": 5
}
