{
 "cells": [
  {
   "cell_type": "markdown",
   "id": "e29ebbc9-b347-4a8c-b251-c9b681aa0bcb",
   "metadata": {},
   "source": [
    "# Première partie"
   ]
  },
  {
   "cell_type": "markdown",
   "id": "d2743b70-c802-4277-af5a-8409fe4c7e25",
   "metadata": {},
   "source": [
    "1) Traiter les données manquantes, aberrantes, comprendre les variables ✅\n",
    "\n",
    "2) Statistiques descriptives simples : histo, etc ✅\n",
    "\n",
    "3) Seine-maritime vs france\n",
    "\n",
    "4) Prédiction (attention variables catégorielles non ordonnées)\n",
    "\n",
    "5) Ajouter mois naissance, pays naissance parents ✅\n",
    "\n",
    "6) Tracer histo age pere et mere sur le meme graphique ✅\n",
    "\n",
    "7) Faire un scatter plot et calculer la corrélation, et la droite de régression linéaire ✅\n",
    "\n",
    "8) Faire un test de normalité pour chaque histo mere et pere \n",
    "\n",
    "9) Nombre de naissances : histogramme age mère par nb de naissance (1,2,3) ✅\n",
    "\n",
    "10) Tableau d’effectifs (à la manière du khi deux) : sexe bébé + 1 autre variable ✅\n",
    "\n",
    "11) Etude à 2 variables : catégorie (age), lieu de domicile ou catégorie (âge) et nationalité"
   ]
  },
  {
   "cell_type": "markdown",
   "id": "9bf3e2dd-2e13-4ffa-b27c-7a00d009dc56",
   "metadata": {
    "tags": []
   },
   "source": [
    "# Extraction des données"
   ]
  },
  {
   "cell_type": "code",
   "execution_count": 16,
   "id": "3a121571-0c5a-462e-8afe-6379788999f5",
   "metadata": {
    "tags": []
   },
   "outputs": [],
   "source": [
    "from dbfread import DBF\n",
    "import pandas as pd\n",
    "\n",
    "df = pd.read_csv(\"fichiers/etatcivil2021_dec2021_csv/FD_DEC_2021.csv\", sep=\";\", low_memory = False)\n",
    "data_alias = {\"ADEC\" : \"Année de décès\", \"ANAIS\": \"Département de décès\", \"DEPNAIS\" : \"Département de naissance du décédé\", \"JDEC\" : \"Jour du décès\", \"JNAIS\" : \"Jour de naissance\",\"MDEC\" : \"Mois de décès\" , \"MNAIS\" : \"Mois de naissance\", \"PNAIS\": \"Pays de naissance\", \"SEXE\" : \"Sexe\"}"
   ]
  },
  {
   "cell_type": "code",
   "execution_count": 17,
   "id": "c70be846-aa35-4d14-aeb2-6d323e1cdda0",
   "metadata": {
    "tags": []
   },
   "outputs": [
    {
     "data": {
      "text/plain": [
       "{'ADEC': 'Année de décès',\n",
       " 'ANAIS': 'Département de décès',\n",
       " 'DEPNAIS': 'Département de naissance du décédé',\n",
       " 'JDEC': 'Jour du décès',\n",
       " 'JNAIS': 'Jour de naissance',\n",
       " 'MDEC': 'Mois de décès',\n",
       " 'MNAIS': 'Mois de naissance',\n",
       " 'PNAIS': 'Pays de naissance',\n",
       " 'SEXE': 'Sexe'}"
      ]
     },
     "execution_count": 17,
     "metadata": {},
     "output_type": "execute_result"
    }
   ],
   "source": [
    "data_alias"
   ]
  },
  {
   "cell_type": "markdown",
   "id": "feb4d9d5-1e8e-4189-8300-db068de1b03b",
   "metadata": {
    "tags": []
   },
   "source": [
    "# Traitement des données abbérantes et manquantes"
   ]
  },
  {
   "cell_type": "code",
   "execution_count": 18,
   "id": "eeef8ced-3a62-45b9-ad3a-b46423418b98",
   "metadata": {
    "tags": []
   },
   "outputs": [
    {
     "data": {
      "text/html": [
       "<div>\n",
       "<style scoped>\n",
       "    .dataframe tbody tr th:only-of-type {\n",
       "        vertical-align: middle;\n",
       "    }\n",
       "\n",
       "    .dataframe tbody tr th {\n",
       "        vertical-align: top;\n",
       "    }\n",
       "\n",
       "    .dataframe thead th {\n",
       "        text-align: right;\n",
       "    }\n",
       "</style>\n",
       "<table border=\"1\" class=\"dataframe\">\n",
       "  <thead>\n",
       "    <tr style=\"text-align: right;\">\n",
       "      <th></th>\n",
       "      <th>ADEC</th>\n",
       "      <th>MDEC</th>\n",
       "      <th>JDEC</th>\n",
       "      <th>DEPDEC</th>\n",
       "      <th>SEXE</th>\n",
       "      <th>ANAIS</th>\n",
       "      <th>MNAIS</th>\n",
       "      <th>JNAIS</th>\n",
       "      <th>DEPNAIS</th>\n",
       "      <th>PNAIS</th>\n",
       "    </tr>\n",
       "  </thead>\n",
       "  <tbody>\n",
       "    <tr>\n",
       "      <th>0</th>\n",
       "      <td>2021</td>\n",
       "      <td>2</td>\n",
       "      <td>26</td>\n",
       "      <td>01</td>\n",
       "      <td>2</td>\n",
       "      <td>1946</td>\n",
       "      <td>11</td>\n",
       "      <td>12</td>\n",
       "      <td>01</td>\n",
       "      <td>NaN</td>\n",
       "    </tr>\n",
       "    <tr>\n",
       "      <th>1</th>\n",
       "      <td>2021</td>\n",
       "      <td>2</td>\n",
       "      <td>12</td>\n",
       "      <td>01</td>\n",
       "      <td>1</td>\n",
       "      <td>1942</td>\n",
       "      <td>6</td>\n",
       "      <td>17</td>\n",
       "      <td>01</td>\n",
       "      <td>NaN</td>\n",
       "    </tr>\n",
       "    <tr>\n",
       "      <th>2</th>\n",
       "      <td>2021</td>\n",
       "      <td>7</td>\n",
       "      <td>5</td>\n",
       "      <td>01</td>\n",
       "      <td>1</td>\n",
       "      <td>1954</td>\n",
       "      <td>4</td>\n",
       "      <td>4</td>\n",
       "      <td>01</td>\n",
       "      <td>NaN</td>\n",
       "    </tr>\n",
       "    <tr>\n",
       "      <th>3</th>\n",
       "      <td>2021</td>\n",
       "      <td>1</td>\n",
       "      <td>30</td>\n",
       "      <td>01</td>\n",
       "      <td>1</td>\n",
       "      <td>1930</td>\n",
       "      <td>9</td>\n",
       "      <td>26</td>\n",
       "      <td>01</td>\n",
       "      <td>NaN</td>\n",
       "    </tr>\n",
       "    <tr>\n",
       "      <th>4</th>\n",
       "      <td>2021</td>\n",
       "      <td>1</td>\n",
       "      <td>14</td>\n",
       "      <td>01</td>\n",
       "      <td>1</td>\n",
       "      <td>1940</td>\n",
       "      <td>7</td>\n",
       "      <td>5</td>\n",
       "      <td>01</td>\n",
       "      <td>NaN</td>\n",
       "    </tr>\n",
       "    <tr>\n",
       "      <th>...</th>\n",
       "      <td>...</td>\n",
       "      <td>...</td>\n",
       "      <td>...</td>\n",
       "      <td>...</td>\n",
       "      <td>...</td>\n",
       "      <td>...</td>\n",
       "      <td>...</td>\n",
       "      <td>...</td>\n",
       "      <td>...</td>\n",
       "      <td>...</td>\n",
       "    </tr>\n",
       "    <tr>\n",
       "      <th>661580</th>\n",
       "      <td>2021</td>\n",
       "      <td>12</td>\n",
       "      <td>11</td>\n",
       "      <td>976</td>\n",
       "      <td>2</td>\n",
       "      <td>1980</td>\n",
       "      <td>1</td>\n",
       "      <td>1</td>\n",
       "      <td>99</td>\n",
       "      <td>99397.0</td>\n",
       "    </tr>\n",
       "    <tr>\n",
       "      <th>661581</th>\n",
       "      <td>2021</td>\n",
       "      <td>12</td>\n",
       "      <td>11</td>\n",
       "      <td>976</td>\n",
       "      <td>2</td>\n",
       "      <td>1952</td>\n",
       "      <td>12</td>\n",
       "      <td>31</td>\n",
       "      <td>99</td>\n",
       "      <td>99397.0</td>\n",
       "    </tr>\n",
       "    <tr>\n",
       "      <th>661582</th>\n",
       "      <td>2021</td>\n",
       "      <td>4</td>\n",
       "      <td>15</td>\n",
       "      <td>976</td>\n",
       "      <td>2</td>\n",
       "      <td>1976</td>\n",
       "      <td>12</td>\n",
       "      <td>31</td>\n",
       "      <td>99</td>\n",
       "      <td>99397.0</td>\n",
       "    </tr>\n",
       "    <tr>\n",
       "      <th>661583</th>\n",
       "      <td>2021</td>\n",
       "      <td>3</td>\n",
       "      <td>26</td>\n",
       "      <td>976</td>\n",
       "      <td>1</td>\n",
       "      <td>2021</td>\n",
       "      <td>3</td>\n",
       "      <td>24</td>\n",
       "      <td>99</td>\n",
       "      <td>99397.0</td>\n",
       "    </tr>\n",
       "    <tr>\n",
       "      <th>661584</th>\n",
       "      <td>2021</td>\n",
       "      <td>12</td>\n",
       "      <td>3</td>\n",
       "      <td>976</td>\n",
       "      <td>1</td>\n",
       "      <td>1958</td>\n",
       "      <td>1</td>\n",
       "      <td>1</td>\n",
       "      <td>99</td>\n",
       "      <td>99397.0</td>\n",
       "    </tr>\n",
       "  </tbody>\n",
       "</table>\n",
       "<p>661585 rows × 10 columns</p>\n",
       "</div>"
      ],
      "text/plain": [
       "        ADEC  MDEC  JDEC DEPDEC  SEXE  ANAIS  MNAIS  JNAIS DEPNAIS    PNAIS\n",
       "0       2021     2    26     01     2   1946     11     12      01      NaN\n",
       "1       2021     2    12     01     1   1942      6     17      01      NaN\n",
       "2       2021     7     5     01     1   1954      4      4      01      NaN\n",
       "3       2021     1    30     01     1   1930      9     26      01      NaN\n",
       "4       2021     1    14     01     1   1940      7      5      01      NaN\n",
       "...      ...   ...   ...    ...   ...    ...    ...    ...     ...      ...\n",
       "661580  2021    12    11    976     2   1980      1      1      99  99397.0\n",
       "661581  2021    12    11    976     2   1952     12     31      99  99397.0\n",
       "661582  2021     4    15    976     2   1976     12     31      99  99397.0\n",
       "661583  2021     3    26    976     1   2021      3     24      99  99397.0\n",
       "661584  2021    12     3    976     1   1958      1      1      99  99397.0\n",
       "\n",
       "[661585 rows x 10 columns]"
      ]
     },
     "execution_count": 18,
     "metadata": {},
     "output_type": "execute_result"
    }
   ],
   "source": [
    "df"
   ]
  },
  {
   "cell_type": "markdown",
   "id": "9eedc4f4-fbee-44f5-8cd0-a04c00cd64a8",
   "metadata": {
    "tags": []
   },
   "source": [
    "Dans le cadre de l'analyse de nos données de naissance nous allons travailler avec 12 variables et plus de 742 000 observations."
   ]
  },
  {
   "cell_type": "markdown",
   "id": "393126f6-5802-46b3-af87-c4a2946bc29f",
   "metadata": {
    "tags": []
   },
   "source": [
    "## Traitement de nos données manquantes"
   ]
  },
  {
   "cell_type": "code",
   "execution_count": 19,
   "id": "8ccdb119-c425-49c3-a5f9-4f9b899cd1ea",
   "metadata": {
    "tags": []
   },
   "outputs": [
    {
     "data": {
      "text/plain": [
       "ADEC            0\n",
       "MDEC            0\n",
       "JDEC            0\n",
       "DEPDEC          0\n",
       "SEXE            0\n",
       "ANAIS           0\n",
       "MNAIS           0\n",
       "JNAIS           0\n",
       "DEPNAIS         0\n",
       "PNAIS      568833\n",
       "dtype: int64"
      ]
     },
     "execution_count": 19,
     "metadata": {},
     "output_type": "execute_result"
    }
   ],
   "source": [
    "missing_v = df.isnull().sum()\n",
    "missing_v"
   ]
  },
  {
   "cell_type": "markdown",
   "id": "f55fd35d-fb27-4699-82c5-86d876227601",
   "metadata": {
    "tags": []
   },
   "source": [
    "La seule variable avec des valeurs manquantes est ACCOUCHR, avec 761 valeurs manquantes. Pour les autres variables, il n'y a pas de valeurs manquantes signalées."
   ]
  },
  {
   "cell_type": "code",
   "execution_count": 20,
   "id": "76634cc8-cb22-44c6-b295-87e2ada15ebe",
   "metadata": {
    "tags": []
   },
   "outputs": [],
   "source": [
    "df[\"PNAIS\"] = df[\"PNAIS\"].fillna(\"inconnu\")"
   ]
  },
  {
   "cell_type": "code",
   "execution_count": 21,
   "id": "5a9d438f-23f2-46f2-9808-e058e0e7c5c8",
   "metadata": {
    "tags": []
   },
   "outputs": [
    {
     "data": {
      "text/plain": [
       "ADEC       0\n",
       "MDEC       0\n",
       "JDEC       0\n",
       "DEPDEC     0\n",
       "SEXE       0\n",
       "ANAIS      0\n",
       "MNAIS      0\n",
       "JNAIS      0\n",
       "DEPNAIS    0\n",
       "PNAIS      0\n",
       "dtype: int64"
      ]
     },
     "execution_count": 21,
     "metadata": {},
     "output_type": "execute_result"
    }
   ],
   "source": [
    "missing_v = df.isnull().sum()\n",
    "missing_v"
   ]
  },
  {
   "cell_type": "markdown",
   "id": "2bbfe645-a7b1-4a5c-b033-5e3110d6d228",
   "metadata": {},
   "source": [
    "Nos données manquantes ont été traitées !"
   ]
  },
  {
   "cell_type": "code",
   "execution_count": 22,
   "id": "920a2de2-27d7-462b-81ad-147f23bfa31c",
   "metadata": {
    "tags": []
   },
   "outputs": [],
   "source": [
    "df[\"AGE\"] = df[\"ADEC\"] - df[\"ANAIS\"]"
   ]
  },
  {
   "cell_type": "code",
   "execution_count": 23,
   "id": "2b9481e7-4c0c-46e4-9c6b-9f04fb0e7ba4",
   "metadata": {
    "tags": []
   },
   "outputs": [
    {
     "data": {
      "text/html": [
       "<div>\n",
       "<style scoped>\n",
       "    .dataframe tbody tr th:only-of-type {\n",
       "        vertical-align: middle;\n",
       "    }\n",
       "\n",
       "    .dataframe tbody tr th {\n",
       "        vertical-align: top;\n",
       "    }\n",
       "\n",
       "    .dataframe thead th {\n",
       "        text-align: right;\n",
       "    }\n",
       "</style>\n",
       "<table border=\"1\" class=\"dataframe\">\n",
       "  <thead>\n",
       "    <tr style=\"text-align: right;\">\n",
       "      <th></th>\n",
       "      <th>ADEC</th>\n",
       "      <th>MDEC</th>\n",
       "      <th>JDEC</th>\n",
       "      <th>DEPDEC</th>\n",
       "      <th>SEXE</th>\n",
       "      <th>ANAIS</th>\n",
       "      <th>MNAIS</th>\n",
       "      <th>JNAIS</th>\n",
       "      <th>DEPNAIS</th>\n",
       "      <th>PNAIS</th>\n",
       "      <th>AGE</th>\n",
       "    </tr>\n",
       "  </thead>\n",
       "  <tbody>\n",
       "    <tr>\n",
       "      <th>0</th>\n",
       "      <td>2021</td>\n",
       "      <td>2</td>\n",
       "      <td>26</td>\n",
       "      <td>01</td>\n",
       "      <td>2</td>\n",
       "      <td>1946</td>\n",
       "      <td>11</td>\n",
       "      <td>12</td>\n",
       "      <td>01</td>\n",
       "      <td>inconnu</td>\n",
       "      <td>75</td>\n",
       "    </tr>\n",
       "    <tr>\n",
       "      <th>1</th>\n",
       "      <td>2021</td>\n",
       "      <td>2</td>\n",
       "      <td>12</td>\n",
       "      <td>01</td>\n",
       "      <td>1</td>\n",
       "      <td>1942</td>\n",
       "      <td>6</td>\n",
       "      <td>17</td>\n",
       "      <td>01</td>\n",
       "      <td>inconnu</td>\n",
       "      <td>79</td>\n",
       "    </tr>\n",
       "    <tr>\n",
       "      <th>2</th>\n",
       "      <td>2021</td>\n",
       "      <td>7</td>\n",
       "      <td>5</td>\n",
       "      <td>01</td>\n",
       "      <td>1</td>\n",
       "      <td>1954</td>\n",
       "      <td>4</td>\n",
       "      <td>4</td>\n",
       "      <td>01</td>\n",
       "      <td>inconnu</td>\n",
       "      <td>67</td>\n",
       "    </tr>\n",
       "    <tr>\n",
       "      <th>3</th>\n",
       "      <td>2021</td>\n",
       "      <td>1</td>\n",
       "      <td>30</td>\n",
       "      <td>01</td>\n",
       "      <td>1</td>\n",
       "      <td>1930</td>\n",
       "      <td>9</td>\n",
       "      <td>26</td>\n",
       "      <td>01</td>\n",
       "      <td>inconnu</td>\n",
       "      <td>91</td>\n",
       "    </tr>\n",
       "    <tr>\n",
       "      <th>4</th>\n",
       "      <td>2021</td>\n",
       "      <td>1</td>\n",
       "      <td>14</td>\n",
       "      <td>01</td>\n",
       "      <td>1</td>\n",
       "      <td>1940</td>\n",
       "      <td>7</td>\n",
       "      <td>5</td>\n",
       "      <td>01</td>\n",
       "      <td>inconnu</td>\n",
       "      <td>81</td>\n",
       "    </tr>\n",
       "    <tr>\n",
       "      <th>...</th>\n",
       "      <td>...</td>\n",
       "      <td>...</td>\n",
       "      <td>...</td>\n",
       "      <td>...</td>\n",
       "      <td>...</td>\n",
       "      <td>...</td>\n",
       "      <td>...</td>\n",
       "      <td>...</td>\n",
       "      <td>...</td>\n",
       "      <td>...</td>\n",
       "      <td>...</td>\n",
       "    </tr>\n",
       "    <tr>\n",
       "      <th>661580</th>\n",
       "      <td>2021</td>\n",
       "      <td>12</td>\n",
       "      <td>11</td>\n",
       "      <td>976</td>\n",
       "      <td>2</td>\n",
       "      <td>1980</td>\n",
       "      <td>1</td>\n",
       "      <td>1</td>\n",
       "      <td>99</td>\n",
       "      <td>99397.0</td>\n",
       "      <td>41</td>\n",
       "    </tr>\n",
       "    <tr>\n",
       "      <th>661581</th>\n",
       "      <td>2021</td>\n",
       "      <td>12</td>\n",
       "      <td>11</td>\n",
       "      <td>976</td>\n",
       "      <td>2</td>\n",
       "      <td>1952</td>\n",
       "      <td>12</td>\n",
       "      <td>31</td>\n",
       "      <td>99</td>\n",
       "      <td>99397.0</td>\n",
       "      <td>69</td>\n",
       "    </tr>\n",
       "    <tr>\n",
       "      <th>661582</th>\n",
       "      <td>2021</td>\n",
       "      <td>4</td>\n",
       "      <td>15</td>\n",
       "      <td>976</td>\n",
       "      <td>2</td>\n",
       "      <td>1976</td>\n",
       "      <td>12</td>\n",
       "      <td>31</td>\n",
       "      <td>99</td>\n",
       "      <td>99397.0</td>\n",
       "      <td>45</td>\n",
       "    </tr>\n",
       "    <tr>\n",
       "      <th>661583</th>\n",
       "      <td>2021</td>\n",
       "      <td>3</td>\n",
       "      <td>26</td>\n",
       "      <td>976</td>\n",
       "      <td>1</td>\n",
       "      <td>2021</td>\n",
       "      <td>3</td>\n",
       "      <td>24</td>\n",
       "      <td>99</td>\n",
       "      <td>99397.0</td>\n",
       "      <td>0</td>\n",
       "    </tr>\n",
       "    <tr>\n",
       "      <th>661584</th>\n",
       "      <td>2021</td>\n",
       "      <td>12</td>\n",
       "      <td>3</td>\n",
       "      <td>976</td>\n",
       "      <td>1</td>\n",
       "      <td>1958</td>\n",
       "      <td>1</td>\n",
       "      <td>1</td>\n",
       "      <td>99</td>\n",
       "      <td>99397.0</td>\n",
       "      <td>63</td>\n",
       "    </tr>\n",
       "  </tbody>\n",
       "</table>\n",
       "<p>661585 rows × 11 columns</p>\n",
       "</div>"
      ],
      "text/plain": [
       "        ADEC  MDEC  JDEC DEPDEC  SEXE  ANAIS  MNAIS  JNAIS DEPNAIS    PNAIS  \\\n",
       "0       2021     2    26     01     2   1946     11     12      01  inconnu   \n",
       "1       2021     2    12     01     1   1942      6     17      01  inconnu   \n",
       "2       2021     7     5     01     1   1954      4      4      01  inconnu   \n",
       "3       2021     1    30     01     1   1930      9     26      01  inconnu   \n",
       "4       2021     1    14     01     1   1940      7      5      01  inconnu   \n",
       "...      ...   ...   ...    ...   ...    ...    ...    ...     ...      ...   \n",
       "661580  2021    12    11    976     2   1980      1      1      99  99397.0   \n",
       "661581  2021    12    11    976     2   1952     12     31      99  99397.0   \n",
       "661582  2021     4    15    976     2   1976     12     31      99  99397.0   \n",
       "661583  2021     3    26    976     1   2021      3     24      99  99397.0   \n",
       "661584  2021    12     3    976     1   1958      1      1      99  99397.0   \n",
       "\n",
       "        AGE  \n",
       "0        75  \n",
       "1        79  \n",
       "2        67  \n",
       "3        91  \n",
       "4        81  \n",
       "...     ...  \n",
       "661580   41  \n",
       "661581   69  \n",
       "661582   45  \n",
       "661583    0  \n",
       "661584   63  \n",
       "\n",
       "[661585 rows x 11 columns]"
      ]
     },
     "execution_count": 23,
     "metadata": {},
     "output_type": "execute_result"
    }
   ],
   "source": [
    "df"
   ]
  },
  {
   "cell_type": "markdown",
   "id": "b13199fb-cfae-4bbe-ba25-3c70cb881553",
   "metadata": {},
   "source": [
    "## Traitement des données abérrantes"
   ]
  },
  {
   "cell_type": "code",
   "execution_count": 24,
   "id": "6e7114d9-7cbd-4573-96f2-57258fdefac3",
   "metadata": {
    "tags": []
   },
   "outputs": [
    {
     "data": {
      "text/plain": [
       "38         0\n",
       "76         0\n",
       "166        0\n",
       "248        0\n",
       "500        9\n",
       "          ..\n",
       "661545    31\n",
       "661554    25\n",
       "661568     2\n",
       "661571    20\n",
       "661583     0\n",
       "Name: AGE, Length: 9859, dtype: int64"
      ]
     },
     "execution_count": 24,
     "metadata": {},
     "output_type": "execute_result"
    }
   ],
   "source": [
    "import pandas as pd\n",
    "import numpy as np\n",
    "\n",
    "def detect_abberation(df, n_std=3):\n",
    "    mean = np.mean(df)\n",
    "    std = np.std(df)\n",
    "\n",
    "    lower_limit = mean - (n_std * std)\n",
    "    upper_limit = mean + (n_std * std)\n",
    "\n",
    "    return df[(df < lower_limit) | (df > upper_limit)]\n",
    "\n",
    "age = detect_abberation(df['AGE'])\n",
    "age"
   ]
  },
  {
   "cell_type": "markdown",
   "id": "ab18b235-2e7d-43ee-ad81-4f0c66cfa622",
   "metadata": {},
   "source": [
    "Il n'y a aucune valeur abberante dans nos deux varibles père et mère s'il y'en avait, les valeurs aberrantes seraient traitées de différentes manières, telles que leur suppression ou leur remplacement par une valeur médiane ou moyenne."
   ]
  },
  {
   "cell_type": "code",
   "execution_count": 28,
   "id": "6f823959-07ed-4f81-b56c-35901785d504",
   "metadata": {
    "tags": []
   },
   "outputs": [
    {
     "data": {
      "text/plain": [
       "ADEC          2021\n",
       "MDEC             3\n",
       "JDEC             1\n",
       "DEPDEC          69\n",
       "SEXE             2\n",
       "ANAIS         2012\n",
       "MNAIS            5\n",
       "JNAIS           30\n",
       "DEPNAIS         01\n",
       "PNAIS      inconnu\n",
       "AGE              9\n",
       "Name: 500, dtype: object"
      ]
     },
     "execution_count": 28,
     "metadata": {},
     "output_type": "execute_result"
    }
   ],
   "source": [
    "df.iloc[500]"
   ]
  },
  {
   "cell_type": "markdown",
   "id": "c4471ba9-7470-4237-8509-d488c24c98b8",
   "metadata": {},
   "source": [
    "### AGE "
   ]
  },
  {
   "cell_type": "code",
   "execution_count": 35,
   "id": "f4580149-05d1-4367-9844-248729396e52",
   "metadata": {
    "tags": []
   },
   "outputs": [
    {
     "name": "stdout",
     "output_type": "stream",
     "text": [
      "En moyenne l'âge de décès est: 79.60510743139581\n",
      "avec un écart de plus ou moins 15.515494607031082\n",
      "L'âge minimal est: 0\n",
      "L'âge maxiaml est: 119 ans\n"
     ]
    }
   ],
   "source": [
    "moyenne = df[\"AGE\"].mean()\n",
    "print(\"En moyenne l'âge de décès est:\", moyenne)\n",
    "ecart_type = df[\"AGE\"].std()\n",
    "print(\"avec un écart de plus ou moins\", ecart_type)\n",
    "print(\"L'âge minimal est:\", df['AGE'].min())\n",
    "print(\"L'âge maxiaml est:\", df['AGE'].max(), \"ans\")"
   ]
  },
  {
   "cell_type": "code",
   "execution_count": 66,
   "id": "b758a8e2-515e-4c78-820f-e92d981750df",
   "metadata": {
    "tags": []
   },
   "outputs": [
    {
     "data": {
      "image/png": "[encoded data removed]",
      "text/plain": [
       "<Figure size 1000x600 with 1 Axes>"
      ]
     },
     "metadata": {},
     "output_type": "display_data"
    }
   ],
   "source": [
    "import matplotlib.pyplot as plt\n",
    "plt.figure(figsize=(10, 6))\n",
    "plt.hist(df['AGE'], bins=50, alpha=0.5, label='Age', color='purple', log=True)\n",
    "\n",
    "plt.xlabel('Age')\n",
    "plt.ylabel('Nombre (log)')\n",
    "plt.title(\"Histogramme des âges\")\n",
    "plt.legend()\n",
    "plt.show()"
   ]
  },
  {
   "cell_type": "markdown",
   "id": "7b9199a9-ac68-4f3b-a877-b3454022833a",
   "metadata": {},
   "source": [
    "HOMME"
   ]
  },
  {
   "cell_type": "code",
   "execution_count": 46,
   "id": "8f8f60ec-7795-4a1c-a50c-2912a7f706f9",
   "metadata": {
    "tags": []
   },
   "outputs": [
    {
     "name": "stdout",
     "output_type": "stream",
     "text": [
      "En moyenne l'âge de l'homme est: 76.08986665547468\n",
      "avec un écart de plus ou moins 15.70415361703706\n",
      "L'âge minimal des hommes est: 0\n",
      "L'âge maximal des hommes est 115 ans\n"
     ]
    }
   ],
   "source": [
    "moyenne = df[df[\"SEXE\"].isin([1])][\"AGE\"].mean()\n",
    "print(\"En moyenne l'âge de l'homme est:\", moyenne)\n",
    "ecart_type = df[df[\"SEXE\"].isin([1])][\"AGE\"].std()\n",
    "print(\"avec un écart de plus ou moins\", ecart_type)\n",
    "print(\"L'âge minimal des hommes est:\", df[df[\"SEXE\"].isin([1])][\"AGE\"].min())\n",
    "print(\"L'âge maximal des hommes est\", df[df[\"SEXE\"].isin([1])][\"AGE\"].max(), \"ans\")"
   ]
  },
  {
   "cell_type": "code",
   "execution_count": 68,
   "id": "562c3b6b-aa60-496a-b86f-7ded30f4352f",
   "metadata": {
    "tags": []
   },
   "outputs": [
    {
     "data": {
      "image/png": "[encoded data removed]",
      "text/plain": [
       "<Figure size 1000x600 with 1 Axes>"
      ]
     },
     "metadata": {},
     "output_type": "display_data"
    }
   ],
   "source": [
    "import matplotlib.pyplot as plt\n",
    "plt.figure(figsize=(10, 6))\n",
    "plt.hist(df[df[\"SEXE\"].isin([1])][\"AGE\"], bins=50, alpha=0.5, label='Age', color='blue', log=True)\n",
    "\n",
    "plt.xlabel('Age')\n",
    "plt.ylabel('Effectif (log)')\n",
    "plt.title(\"Histogramme des âges des hommes\")\n",
    "plt.legend()\n",
    "plt.show()"
   ]
  },
  {
   "cell_type": "markdown",
   "id": "009ea108-eedd-4e3f-9f11-ebcd0c09b6bb",
   "metadata": {},
   "source": [
    "FEMME"
   ]
  },
  {
   "cell_type": "code",
   "execution_count": 47,
   "id": "3bbe0fb7-5f08-4af2-a11b-b732f3c2f1d0",
   "metadata": {
    "tags": []
   },
   "outputs": [
    {
     "name": "stdout",
     "output_type": "stream",
     "text": [
      "En moyenne l'âge de la femme est: 83.1799227469643\n",
      "avec un écart de plus ou moins 14.470518362241064\n",
      "L'âge minimal des femmes est: 0\n",
      "L'âge maximal des femmes est 119 ans\n"
     ]
    }
   ],
   "source": [
    "moyenne = df[df[\"SEXE\"].isin([2])][\"AGE\"].mean()\n",
    "print(\"En moyenne l'âge de la femme est:\", moyenne)\n",
    "ecart_type = df[df[\"SEXE\"].isin([2])][\"AGE\"].std()\n",
    "print(\"avec un écart de plus ou moins\", ecart_type)\n",
    "print(\"L'âge minimal des femmes est:\", df[df[\"SEXE\"].isin([2])][\"AGE\"].min())\n",
    "print(\"L'âge maximal des femmes est\", df[df[\"SEXE\"].isin([2])][\"AGE\"].max(), \"ans\")"
   ]
  },
  {
   "cell_type": "code",
   "execution_count": 70,
   "id": "761d5825-d322-4c35-9f97-90384bc66649",
   "metadata": {
    "tags": []
   },
   "outputs": [
    {
     "data": {
      "image/png": "[encoded data removed]",
      "text/plain": [
       "<Figure size 1000x600 with 1 Axes>"
      ]
     },
     "metadata": {},
     "output_type": "display_data"
    }
   ],
   "source": [
    "import matplotlib.pyplot as plt\n",
    "plt.figure(figsize=(10, 6))\n",
    "plt.hist(df[df[\"SEXE\"].isin([2])][\"AGE\"], bins=50, alpha=0.5, label='Age', color='red', log=True)\n",
    "\n",
    "plt.xlabel('Age')\n",
    "plt.ylabel('Nombre (log)')\n",
    "plt.title(\"Histogramme des âges des femmes\")\n",
    "plt.legend()\n",
    "plt.show()"
   ]
  },
  {
   "cell_type": "code",
   "execution_count": 53,
   "id": "44c861b0-6b99-4e84-a3e4-6f5d6ef9b0ff",
   "metadata": {
    "tags": []
   },
   "outputs": [
    {
     "data": {
      "image/png": "[encoded data removed]",
      "text/plain": [
       "<Figure size 1000x600 with 1 Axes>"
      ]
     },
     "metadata": {},
     "output_type": "display_data"
    }
   ],
   "source": [
    "plt.figure(figsize=(10, 6))\n",
    "plt.hist(df[df[\"SEXE\"].isin([1])][\"AGE\"], bins=50, alpha=0.5, label='Age des hommes', color='blue', log=True)\n",
    "plt.hist(df[df[\"SEXE\"].isin([2])][\"AGE\"], bins=50, alpha=0.5, label='Age des femmes', color='red', log=True)\n",
    "\n",
    "plt.xlabel('Age')\n",
    "plt.ylabel('Nombre (log)')\n",
    "plt.title(\"Histogrammes superposés des âges des hommes et des femmes au moment de leur décès\")\n",
    "plt.legend()\n",
    "plt.show()"
   ]
  },
  {
   "cell_type": "markdown",
   "id": "9a9c753b-fc11-450e-bf1f-5122b66a3109",
   "metadata": {},
   "source": [
    "### Graphique en boîte Age des hommes et des femmes"
   ]
  },
  {
   "cell_type": "code",
   "execution_count": 61,
   "id": "2af509dc-b571-4d99-850e-7f7cbf616a6b",
   "metadata": {
    "tags": []
   },
   "outputs": [
    {
     "data": {
      "text/plain": [
       "<Figure size 1000x600 with 0 Axes>"
      ]
     },
     "metadata": {},
     "output_type": "display_data"
    },
    {
     "data": {
      "image/png": "[encoded data removed]",
      "text/plain": [
       "<Figure size 1000x600 with 1 Axes>"
      ]
     },
     "metadata": {},
     "output_type": "display_data"
    }
   ],
   "source": [
    "import matplotlib.pyplot as plt\n",
    "import seaborn as sns\n",
    "plt.figure(figsize=(10, 6))\n",
    "df['SEXE_label'] = df['SEXE'].map({1: 'Homme', 2: 'Femme'})\n",
    "\n",
    "plt.figure(figsize=(10, 6))\n",
    "sns.boxplot(x='SEXE_label', y='AGE', data=df)\n",
    "plt.title('Âges par Sexe')\n",
    "plt.xlabel('Sexe')\n",
    "plt.ylabel('Âge')\n",
    "plt.show()"
   ]
  },
  {
   "cell_type": "markdown",
   "id": "4fd8dbca-cc04-47a3-b0e1-fec4d7befd4c",
   "metadata": {},
   "source": [
    "### NBENF (Nombre d'enfants issus de l'accouchement)"
   ]
  },
  {
   "cell_type": "code",
   "execution_count": 12,
   "id": "eb13c705-59de-4c7b-80f5-5e45ba3dd784",
   "metadata": {
    "tags": []
   },
   "outputs": [
    {
     "name": "stdout",
     "output_type": "stream",
     "text": [
      "1.0312255744880412\n",
      "0.17763747155569193\n",
      "1\n",
      "Le nombre max de bébé par accouchement est 3\n"
     ]
    }
   ],
   "source": [
    "moyenne = data_naissance[\"NBENF\"].mean()\n",
    "print(moyenne)\n",
    "ecart_type = data_naissance[\"NBENF\"].std()\n",
    "print(ecart_type)\n",
    "print(data_naissance['NBENF'].min())\n",
    "print(\"Le nombre max de bébé par accouchement est\", data_naissance['NBENF'].max())"
   ]
  },
  {
   "cell_type": "markdown",
   "id": "05483730-ad04-40fd-b473-99a20ce486fd",
   "metadata": {},
   "source": [
    "### Diagramme à barre age mère par nombre de naissance"
   ]
  },
  {
   "cell_type": "markdown",
   "id": "fc92640a-61c4-4b98-85e7-22e302c3ed2e",
   "metadata": {},
   "source": [
    "### SEXE"
   ]
  },
  {
   "cell_type": "code",
   "execution_count": 72,
   "id": "8559a626-129f-4928-8906-4aa7e981b7ee",
   "metadata": {
    "tags": []
   },
   "outputs": [
    {
     "name": "stdout",
     "output_type": "stream",
     "text": [
      "Il y'a eu  333572 décès d'hommes soit 50.42012742126862 %\n",
      "Il y'a eu  328013 décès de femmes soit 49.57987257873138 %\n"
     ]
    }
   ],
   "source": [
    "nombre_hommes = df[df['SEXE'] == 1].shape[0]\n",
    "nombre_femmes = df[df['SEXE'] == 2].shape[0]\n",
    "\n",
    "print(\"Il y'a eu \", nombre_hommes, \"décès d'hommes soit\", (nombre_hommes*100) / len(df[\"SEXE\"]), \"%\")\n",
    "print(\"Il y'a eu \", nombre_femmes, \"décès de femmes soit\",  (nombre_femmes*100) / len(df[\"SEXE\"]), \"%\")"
   ]
  },
  {
   "cell_type": "markdown",
   "id": "433ce920-11d1-4572-b10d-5e3e02ae4315",
   "metadata": {},
   "source": [
    "### Diagramme de distribution du sexe des enfants"
   ]
  },
  {
   "cell_type": "code",
   "execution_count": 73,
   "id": "98aa5df2-01f9-4144-b906-2dff053be218",
   "metadata": {
    "tags": []
   },
   "outputs": [
    {
     "data": {
      "image/png": "[encoded data removed]",
      "text/plain": [
       "<Figure size 1000x600 with 1 Axes>"
      ]
     },
     "metadata": {},
     "output_type": "display_data"
    }
   ],
   "source": [
    "plt.figure(figsize=(10,6))\n",
    "sex_distribution = df['SEXE'].value_counts()\n",
    "sns.barplot(x=sex_distribution.index, y=sex_distribution.values)\n",
    "plt.title('Répartition du Sexe des Enfants')\n",
    "plt.xlabel('Sexe')\n",
    "plt.ylabel('Nombre de Naissances')\n",
    "plt.xticks([0, 1], ['Homme', 'Femme'])\n",
    "plt.show()"
   ]
  },
  {
   "cell_type": "markdown",
   "id": "5d3745f4-e16f-4233-8e28-ba0644e89f9c",
   "metadata": {},
   "source": [
    "### Histogramme mois de décès"
   ]
  },
  {
   "cell_type": "code",
   "execution_count": 76,
   "id": "d6d9012d-fa47-4f53-8825-44c7173b637b",
   "metadata": {
    "tags": []
   },
   "outputs": [
    {
     "data": {
      "image/png": "[encoded data removed]",
      "text/plain": [
       "<Figure size 1000x600 with 1 Axes>"
      ]
     },
     "metadata": {},
     "output_type": "display_data"
    }
   ],
   "source": [
    "plt.figure(figsize=(10, 6))\n",
    "df[\"MDEC\"].plot.hist(bins = 35, color = \"blue\")\n",
    "\"\"\"plt.yscale(\"log\")\"\"\"\n",
    "plt.xlabel(\"Mois de Décès\")\n",
    "plt.ylabel(\"Effectif\")\n",
    "plt.title(\"Histogramme des décès par mois\")\n",
    "plt.show()"
   ]
  }
 ],
 "metadata": {
  "kernelspec": {
   "display_name": "Python 3 (ipykernel)",
   "language": "python",
   "name": "python3"
  },
  "language_info": {
   "codemirror_mode": {
    "name": "ipython",
    "version": 3
   },
   "file_extension": ".py",
   "mimetype": "text/x-python",
   "name": "python",
   "nbconvert_exporter": "python",
   "pygments_lexer": "ipython3",
   "version": "3.11.5"
  }
 },
 "nbformat": 4,
 "nbformat_minor": 5
}
