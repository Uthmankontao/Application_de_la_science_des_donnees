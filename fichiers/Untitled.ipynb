{
 "cells": [
  {
   "cell_type": "code",
   "execution_count": 1,
   "id": "cc36cec5-d550-4ae5-9711-8bf71c9c9ed2",
   "metadata": {
    "tags": []
   },
   "outputs": [
    {
     "name": "stdout",
     "output_type": "stream",
     "text": [
      "Collecting dbfread\n",
      "  Downloading dbfread-2.0.7-py2.py3-none-any.whl (20 kB)\n",
      "Installing collected packages: dbfread\n",
      "Successfully installed dbfread-2.0.7\n",
      "Note: you may need to restart the kernel to use updated packages.\n"
     ]
    }
   ],
   "source": [
    "pip install dbfread"
   ]
  },
  {
   "cell_type": "code",
   "execution_count": null,
   "id": "7042cd9d-86de-478d-9c17-6a323a8b8630",
   "metadata": {
    "tags": []
   },
   "outputs": [],
   "source": [
    "from dbfread import DBF\n",
    "import pandas as pd\n",
    "\n",
    "# Spécifiez le chemin vers votre fichier DBF\n",
    "chemin_fichier_dbf = 'FD_NAIS_2021.dbf'\n",
    "\n",
    "# Utilisez dbfread pour lire le fichier DBF\n",
    "table_dbf = DBF(chemin_fichier_dbf)\n",
    "\n",
    "# Convertissez les données en DataFrame pandas\n",
    "df = pd.DataFrame(iter(table_dbf))\n",
    "\n",
    "# Affichez les premières lignes du DataFrame\n",
    "print(df.head())\n"
   ]
  },
  {
   "cell_type": "code",
   "execution_count": 1,
   "id": "c4d89b47-48f8-4860-aeb5-e824e916677e",
   "metadata": {
    "tags": []
   },
   "outputs": [
    {
     "name": "stdout",
     "output_type": "stream",
     "text": [
      "Requirement already satisfied: pandas in c:\\users\\konta\\anaconda3\\lib\\site-packages (2.0.3)Note: you may need to restart the kernel to use updated packages.\n",
      "\n",
      "Requirement already satisfied: dbfread in c:\\users\\konta\\anaconda3\\lib\\site-packages (2.0.7)\n",
      "Requirement already satisfied: dbf in c:\\users\\konta\\anaconda3\\lib\\site-packages (0.99.9)\n",
      "Requirement already satisfied: python-dateutil>=2.8.2 in c:\\users\\konta\\appdata\\roaming\\python\\python311\\site-packages (from pandas) (2.8.2)\n",
      "Requirement already satisfied: pytz>=2020.1 in c:\\users\\konta\\anaconda3\\lib\\site-packages (from pandas) (2023.3.post1)\n",
      "Requirement already satisfied: tzdata>=2022.1 in c:\\users\\konta\\anaconda3\\lib\\site-packages (from pandas) (2023.3)\n",
      "Requirement already satisfied: numpy>=1.21.0 in c:\\users\\konta\\anaconda3\\lib\\site-packages (from pandas) (1.24.3)\n",
      "Requirement already satisfied: aenum in c:\\users\\konta\\anaconda3\\lib\\site-packages (from dbf) (3.1.15)\n",
      "Requirement already satisfied: six>=1.5 in c:\\users\\konta\\appdata\\roaming\\python\\python311\\site-packages (from python-dateutil>=2.8.2->pandas) (1.16.0)\n"
     ]
    }
   ],
   "source": [
    "pip install pandas dbfread dbf"
   ]
  },
  {
   "cell_type": "code",
   "execution_count": 6,
   "id": "e549fdb8-732f-4b1c-9f70-a527ca6ba89f",
   "metadata": {
    "tags": []
   },
   "outputs": [
    {
     "ename": "NameError",
     "evalue": "name 'chemin_fichier_dbf' is not defined",
     "output_type": "error",
     "traceback": [
      "\u001b[1;31m---------------------------------------------------------------------------\u001b[0m",
      "\u001b[1;31mNameError\u001b[0m                                 Traceback (most recent call last)",
      "Cell \u001b[1;32mIn[6], line 5\u001b[0m\n\u001b[0;32m      2\u001b[0m \u001b[38;5;28;01mfrom\u001b[39;00m \u001b[38;5;21;01mdbfread\u001b[39;00m \u001b[38;5;28;01mimport\u001b[39;00m DBF\n\u001b[0;32m      4\u001b[0m \u001b[38;5;66;03m# Charger le fichier DBF dans un DataFrame panda\u001b[39;00m\n\u001b[1;32m----> 5\u001b[0m table_dbf \u001b[38;5;241m=\u001b[39m DBF(\u001b[43mchemin_fichier_dbf\u001b[49m)\n\u001b[0;32m      6\u001b[0m df \u001b[38;5;241m=\u001b[39m pd\u001b[38;5;241m.\u001b[39mDataFrame(\u001b[38;5;28miter\u001b[39m(table_dbf))\n\u001b[0;32m      8\u001b[0m \u001b[38;5;66;03m# Supprimer les colonnes non désirées\u001b[39;00m\n",
      "\u001b[1;31mNameError\u001b[0m: name 'chemin_fichier_dbf' is not defined"
     ]
    }
   ],
   "source": [
    "import pandas as pd\n",
    "from dbfread import DBF\n",
    "\n",
    "# Charger le fichier DBF dans un DataFrame panda\n",
    "table_dbf = DBF(chemin_fichier_dbf)\n",
    "df = pd.DataFrame(iter(table_dbf))\n",
    "\n",
    "# Supprimer les colonnes non désirées\n",
    "colonnes_a_supprimer = ['NomColonne1', 'NomColonne2', 'NomColonne3']\n",
    "df = df.drop(columns=colonnes_a_supprimer, errors='ignore')\n",
    "\n",
    "# Enregistrer le DataFrame modifié dans un nouveau fichier DBF\n",
    "chemin_nouveau_fichier_dbf = 'nouveau_fichier.dbf'\n",
    "df.to_csv(nouveau_fichier_dbf, index=False)\n"
   ]
  }
 ],
 "metadata": {
  "kernelspec": {
   "display_name": "Python 3 (ipykernel)",
   "language": "python",
   "name": "python3"
  },
  "language_info": {
   "codemirror_mode": {
    "name": "ipython",
    "version": 3
   },
   "file_extension": ".py",
   "mimetype": "text/x-python",
   "name": "python",
   "nbconvert_exporter": "python",
   "pygments_lexer": "ipython3",
   "version": "3.11.5"
  }
 },
 "nbformat": 4,
 "nbformat_minor": 5
}
